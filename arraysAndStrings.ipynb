{
 "cells": [
  {
   "cell_type": "markdown",
   "metadata": {},
   "source": [
    "### Oh no! You want to check if a string has only unique characters? What if you can't use additional data structures?"
   ]
  },
  {
   "cell_type": "code",
   "execution_count": 33,
   "metadata": {},
   "outputs": [
    {
     "name": "stdout",
     "output_type": "stream",
     "text": [
      "Are there only unique characters in the string qwertqyui? False\n"
     ]
    }
   ],
   "source": [
    "s = 'arbitrary'\n",
    "s = 'qwertqyui'\n",
    "#s = 'uniqe'  # Haaaaa\n",
    "\n",
    "# Start from the first character and loop over the remaining characters to check if it appears again.\n",
    "# If it doesn't start from the second character and loop over remaining\n",
    "# Start from third and repeat...\n",
    "# Should have O(N^2) complexity?\n",
    "\n",
    "def uniqueCharactersInString(s):\n",
    "    noRepeatedCharacters = True\n",
    "    while noRepeatedCharacters:\n",
    "        for i in range(len(s)+1):\n",
    "            for j in range(i+1, len(s)):\n",
    "                #print('i = {}, j = {}, char 1: {}, char2: {}, condition: {}'.format(i, j, s[i], s[j], noRepeatedCharacters))\n",
    "                if s[i] == s[j]:\n",
    "                    noRepeatedCharacters = False\n",
    "                    break\n",
    "            break\n",
    "        break\n",
    "    return noRepeatedCharacters\n",
    "\n",
    "print('Are there only unique characters in the string ' + s + '? {}'.format(uniqueCharactersInString(s)))"
   ]
  },
  {
   "cell_type": "markdown",
   "metadata": {},
   "source": [
    "### On no! You have two strings and want to know whether one is a permutation of the other?"
   ]
  },
  {
   "cell_type": "code",
   "execution_count": null,
   "metadata": {},
   "outputs": [],
   "source": []
  }
 ],
 "metadata": {
  "kernelspec": {
   "display_name": "Python 3",
   "language": "python",
   "name": "python3"
  },
  "language_info": {
   "codemirror_mode": {
    "name": "ipython",
    "version": 3
   },
   "file_extension": ".py",
   "mimetype": "text/x-python",
   "name": "python",
   "nbconvert_exporter": "python",
   "pygments_lexer": "ipython3",
   "version": "3.7.3"
  }
 },
 "nbformat": 4,
 "nbformat_minor": 4
}
