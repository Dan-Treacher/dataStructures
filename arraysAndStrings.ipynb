{
 "cells": [
  {
   "cell_type": "markdown",
   "metadata": {},
   "source": [
    "### Oh no! You want to check if a string has only unique characters? What if you can't use additional data structures?"
   ]
  },
  {
   "cell_type": "code",
   "execution_count": 33,
   "metadata": {},
   "outputs": [
    {
     "name": "stdout",
     "output_type": "stream",
     "text": [
      "Are there only unique characters in the string qwertqyui? False\n"
     ]
    }
   ],
   "source": [
    "s = 'arbitrary'\n",
    "s = 'qwertqyui'\n",
    "#s = 'uniqe'  # Haaaaa\n",
    "\n",
    "# Start from the first character and loop over the remaining characters to check if it appears again.\n",
    "# If it doesn't start from the second character and loop over remaining\n",
    "# Start from third and repeat...\n",
    "# Should have O(N^2) complexity?\n",
    "\n",
    "def uniqueCharactersInString(s):\n",
    "    noRepeatedCharacters = True\n",
    "    while noRepeatedCharacters:\n",
    "        for i in range(len(s)+1):\n",
    "            for j in range(i+1, len(s)):\n",
    "                #print('i = {}, j = {}, char 1: {}, char2: {}, condition: {}'.format(i, j, s[i], s[j], noRepeatedCharacters))\n",
    "                if s[i] == s[j]:\n",
    "                    noRepeatedCharacters = False\n",
    "                    break\n",
    "            break\n",
    "        break\n",
    "    return noRepeatedCharacters\n",
    "\n",
    "print('Are there only unique characters in the string ' + s + '? {}'.format(uniqueCharactersInString(s)))"
   ]
  },
  {
   "cell_type": "markdown",
   "metadata": {},
   "source": [
    "### On no! You have two strings and want to know whether one is a permutation of the other?"
   ]
  },
  {
   "cell_type": "code",
   "execution_count": 77,
   "metadata": {},
   "outputs": [
    {
     "name": "stdout",
     "output_type": "stream",
     "text": [
      "Is cdab a permutation of abcd? True\n"
     ]
    }
   ],
   "source": [
    "# Direct copy from code I just wrote by hand. Nice\n",
    "def permutation(s1, s2):\n",
    "    k = s1.index(s2[0])\n",
    "    s1 = s1[k:] + s1[:k]\n",
    "    if s1 == s2:\n",
    "        return True\n",
    "    else:\n",
    "        return False\n",
    "\n",
    "\n",
    "# Works fine for strings with no repeated letters\n",
    "s1 = 'abcd'\n",
    "s2 = 'cdab'\n",
    "\n",
    "# Doesn't work so well for strings with repeated letters\n",
    "#s1 = 'abcdec'\n",
    "#s2 = 'cdecab'\n",
    "#s2 = 'cabcde'\n",
    "\n",
    "print('Is {} a permutation of {}? {}'.format(s2, s1, permutation(s1, s2)))"
   ]
  },
  {
   "cell_type": "code",
   "execution_count": 76,
   "metadata": {},
   "outputs": [
    {
     "name": "stdout",
     "output_type": "stream",
     "text": [
      "Is cabcde a permutation of abcdec? True\n"
     ]
    }
   ],
   "source": [
    "# Another version that should handle repeated characters in the given strings\n",
    "def permutationRep(s1, s2):\n",
    "    permutation = False\n",
    "    k = [None]*len(s1)\n",
    "    k[0] = s1.index(s2[0])\n",
    "    for i in range(1, len(s1)):\n",
    "        k[i] = s1[k[0]+1:].index(s2[0]) + k[0] + 1\n",
    "    k = list(set(k))  # Only unique values\n",
    "    #print(k)\n",
    "    for startingPoint in k:\n",
    "        s3 = s1[startingPoint:] + s1[:startingPoint]\n",
    "        if s3 == s2:\n",
    "            permutation = True\n",
    "            break\n",
    "    return permutation\n",
    "\n",
    "# Now works for strings with repeated letters too.\n",
    "s1 = 'abcdec'\n",
    "#s2 = 'cdecab'\n",
    "s2 = 'cabcde'\n",
    "\n",
    "print('Is {} a permutation of {}? {}'.format(s2, s1, permutationRep(s1, s2)))"
   ]
  },
  {
   "cell_type": "markdown",
   "metadata": {},
   "source": [
    "### Oh no! You want to take in a string and output the same string but with %20 instead of the whitespaces?"
   ]
  },
  {
   "cell_type": "code",
   "execution_count": 2,
   "metadata": {},
   "outputs": [
    {
     "name": "stdout",
     "output_type": "stream",
     "text": [
      "my%20name%20is%20john%20doe\n"
     ]
    }
   ],
   "source": [
    "s = 'my name is john doe'\n",
    "t = ''\n",
    "for character in s:\n",
    "    if character == ' ':\n",
    "        t += '%20'\n",
    "    else:\n",
    "        t += character\n",
    "print(t)"
   ]
  },
  {
   "cell_type": "markdown",
   "metadata": {},
   "source": [
    "### Oh no! You want to check if a string is a permutation of a palindrome?"
   ]
  },
  {
   "cell_type": "code",
   "execution_count": 64,
   "metadata": {},
   "outputs": [
    {
     "name": "stdout",
     "output_type": "stream",
     "text": [
      "cocatta attacoc\n",
      "ocattac cattaco\n",
      "cattaco ocattac\n",
      "attacoc cocatta\n",
      "ttacoca acocatt\n",
      "tacocat tacocat\n",
      "acocatt ttacoca\n"
     ]
    },
    {
     "data": {
      "text/plain": [
       "True"
      ]
     },
     "execution_count": 64,
     "metadata": {},
     "output_type": "execute_result"
    }
   ],
   "source": [
    "s = 'co catta'\n",
    "\n",
    "def palindromPermutation(s):\n",
    "    isPalindromePermutation = False\n",
    "    s = s.replace(' ', '')  # whitespaces don't (shouldn't) have any effect\n",
    "    for i in range(len(s)):\n",
    "        testString = s[i:] + s[:i]  # Cycle through permutations\n",
    "        print(testString, testString[::-1])\n",
    "        if testString == testString[::-1]:\n",
    "            isPalindromePermutation = True\n",
    "    return isPalindromePermutation\n",
    "\n",
    "palindromPermutation(s)\n",
    "# Implementation in the book seem massively over engineered and unwieldy. Don't know why it takes three pages to do this..."
   ]
  },
  {
   "cell_type": "markdown",
   "metadata": {},
   "source": [
    "### On no! You want to calculate how many edits away from a word another word is?"
   ]
  },
  {
   "cell_type": "code",
   "execution_count": 132,
   "metadata": {},
   "outputs": [
    {
     "name": "stdout",
     "output_type": "stream",
     "text": [
      "0 e [1, 0, 1, 2, 3, 4, 5, 6]\n",
      "1 x [2, 1, 0, 1, 2, 3, 4, 5]\n",
      "2 a [3, 2, 1, 1, 2, 3, 4, 5]\n",
      "3 m [4, 3, 2, 2, 1, 2, 3, 4]\n",
      "4 p [5, 4, 3, 3, 2, 1, 2, 3]\n",
      "5 l [6, 5, 4, 4, 3, 2, 1, 2]\n",
      "6 e [7, 6, 5, 4, 4, 3, 2, 1]\n",
      "7 s [8, 7, 6, 5, 5, 4, 3, 2]\n"
     ]
    },
    {
     "data": {
      "text/plain": [
       "2"
      ]
     },
     "execution_count": 132,
     "metadata": {},
     "output_type": "execute_result"
    }
   ],
   "source": [
    "def levenshteinDistance(s1, s2):\n",
    "    if len(s1) > len(s2):\n",
    "        s1, s2 = s2, s1\n",
    "\n",
    "    distances = range(len(s1) + 1)\n",
    "    for i2, c2 in enumerate(s2):\n",
    "        distances_ = [i2+1]\n",
    "        for i1, c1 in enumerate(s1):\n",
    "            if c1 == c2:\n",
    "                distances_.append(distances[i1])\n",
    "            else:\n",
    "                distances_.append(1 + min((distances[i1], distances[i1 + 1], distances_[-1])))\n",
    "        distances = distances_\n",
    "        print(i2, c2, distances)\n",
    "    return distances[-1]\n",
    "\n",
    "levenshteinDistance('exemple', 'examples')"
   ]
  },
  {
   "cell_type": "code",
   "execution_count": 88,
   "metadata": {},
   "outputs": [
    {
     "data": {
      "text/plain": [
       "[[0, 1, 2, 3, 4, 5, 6],\n",
       " [1, 1, 2, 3, 4, 5, 6],\n",
       " [2, 2, 2, 2, 3, 4, 5],\n",
       " [3, 3, 3, 3, 3, 4, 5],\n",
       " [4, 4, 4, 4, 4, 4, 5],\n",
       " [5, 5, 5, 5, 5, 5, 5],\n",
       " [6, 6, 6, 6, 6, 6, 5]]"
      ]
     },
     "execution_count": 88,
     "metadata": {},
     "output_type": "execute_result"
    }
   ],
   "source": [
    "# Dynamic programming implementation of the above.\n",
    "\n",
    "#s1 = 'barry'\n",
    "#s2 = 'barrold'\n",
    "\n",
    "s1 = 'tables'\n",
    "s2 = 'chairs'\n",
    "\n",
    "# Initialise the array for subproblem solutions. The +1s are to include the empty string '' as an edge case at the beginning\n",
    "dp = [[0]*(len(s2)+1) for i in range(len(s1)+1)]\n",
    "\n",
    "# To get from '' to '' requires no edits\n",
    "dp[0][0] = (0)\n",
    "\n",
    "# For all cases where the other string is the null string '', the number of edits required is the number of characters in the string\n",
    "for j in range(len(s2)+1):\n",
    "    dp[0][j] = j\n",
    "for i in range(len(s1)+1):\n",
    "    dp[i][0] = i\n",
    "\n",
    "# Loop over all other cases where the strings are of varying length and at each point, the number of edits required is the\n",
    "# minimum of the adjacent upper left edit numbers, plus 1\n",
    "for i in range(1, len(s1)+1):\n",
    "    for j in range(1, len(s2)+1):\n",
    "        if s1[i-1] == s2[j-1]:  # If the letters are the same in the two strings, no edits need to be made (backtrack to earlier case that's the same)\n",
    "            dp[i][j] = dp[i-1][j-1]\n",
    "        else:\n",
    "            dp[i][j] = min(dp[i-1][j], dp[i][j-1], dp[i-1][j-1]) + 1\n",
    "dp"
   ]
  },
  {
   "cell_type": "markdown",
   "metadata": {},
   "source": [
    "### In the above cell, the final entry in dp is 5. This is the same as dp[-2][-2] because solving the number of edits to get from 'tables' to 'chairs' is the same as the number of edits required to get from 'table' to 'chair', as the repeated final character has no effect in the case\n",
    "\n",
    "### The dp table is interpreted as follows: The horizontal direction is the length of string 1 being considered (3rd column means your string is 'ch' instead of 'chairs' because the first column is the null string ''), whilst the vertical direction is the length of string 2\n",
    "\n",
    "### That means that dp[4][3] tells you the number of edits required to map string1[:3] to string2[:4]. Each added character in either string is related to the simpler base case(s) by considering what you would need to do to that string to get to the new one"
   ]
  },
  {
   "cell_type": "markdown",
   "metadata": {},
   "source": [
    "### Oh no! You want to compress strings into a shorter representation if they have repeated characters?"
   ]
  },
  {
   "cell_type": "code",
   "execution_count": 111,
   "metadata": {},
   "outputs": [
    {
     "data": {
      "text/plain": [
       "'a4bc4dde5'"
      ]
     },
     "execution_count": 111,
     "metadata": {},
     "output_type": "execute_result"
    }
   ],
   "source": [
    "# Range of ord('A') to ord('z') is 65-122\n",
    "\n",
    "string1 = 'aaaabccccddeeeee'\n",
    "\n",
    "# A stack might come in handy here? Shall try first without one though\n",
    "t = ''\n",
    "substr = string1[0]\n",
    "count = 1\n",
    "\n",
    "# A bit of cheeky pre-processing\n",
    "last = ord(string1[-1])\n",
    "string1 += chr(abs(last - 1))\n",
    "\n",
    "for character in string1[1:]:\n",
    "    if character == substr:\n",
    "        count += 1\n",
    "    else:\n",
    "        if count > 2:\n",
    "            t += substr + str(count)\n",
    "        else:\n",
    "            t += substr*count\n",
    "        substr = character\n",
    "        count = 1\n",
    "\n",
    "t  # Note that if two of the same letters appear consecutively, they're not compressed because len('dd') == len('d2')"
   ]
  },
  {
   "cell_type": "markdown",
   "metadata": {},
   "source": [
    "### Oh no! You want to rotate a matrix by an integer number of 90 degrees?"
   ]
  },
  {
   "cell_type": "code",
   "execution_count": 1,
   "metadata": {},
   "outputs": [
    {
     "data": {
      "text/plain": [
       "[[1, 0, 0, 0, 0],\n",
       " [0, 0, 0, 0, 0],\n",
       " [0, 0, 0, 0, 0],\n",
       " [0, 0, 0, 0, 0],\n",
       " [0, 0, 0, 0, 0],\n",
       " [0, 0, 0, 0, 0],\n",
       " [0, 0, 0, 0, 0],\n",
       " [2, 0, 0, 0, 0]]"
      ]
     },
     "execution_count": 1,
     "metadata": {},
     "output_type": "execute_result"
    }
   ],
   "source": [
    "# Trivially easy in numpy, but I'm guessing that's not a valid approach.\n",
    "\n",
    "n, m = 5, 8  # Specify sizes\n",
    "array = [[0]*n for i in range(m)]\n",
    "array[0][0] = 1\n",
    "array[m-1][0] = 2  # Just a bit of asymmetry so the rotations are more obvious\n",
    "array\n",
    "\n",
    "array"
   ]
  },
  {
   "cell_type": "code",
   "execution_count": 13,
   "metadata": {},
   "outputs": [
    {
     "data": {
      "text/plain": [
       "[[0, 0, 0, 0, 0, 0, 0, 0],\n",
       " [0, 0, 0, 0, 0, 0, 0, 0],\n",
       " [0, 0, 0, 0, 0, 0, 0, 0],\n",
       " [0, 0, 0, 0, 0, 0, 0, 0],\n",
       " [1, 0, 0, 0, 0, 0, 0, 2]]"
      ]
     },
     "execution_count": 13,
     "metadata": {},
     "output_type": "execute_result"
    }
   ],
   "source": [
    "# For one clockwise rotation\n",
    "def clockwise(array):\n",
    "    n, m = len(array[0]), len(array)\n",
    "    temp = [[0]*m for i in range(n)]\n",
    "    for j in range(n):\n",
    "        old = []\n",
    "        for i in range(m):\n",
    "            old.append(array[i][j])\n",
    "        temp[j] = old[::-1]\n",
    "    return temp\n",
    "\n",
    "# For three clockwise (= 1 anticlockwise) it'll just be = 1 clockwise printed backward\n",
    "def rotateArray(array, nRotations):\n",
    "    nR = nRotations%4\n",
    "    if nR == 1:\n",
    "        return clockwise(array)\n",
    "    elif nR == 2:\n",
    "        return [row[::-1] for row in array][::-1]  # Probably faster to do it this way rather than multiple clockwise() calls\n",
    "    elif nR == 3:\n",
    "        return clockwise(clockwise(clockwise(array)))\n",
    "    else:\n",
    "        return array\n",
    "\n",
    "rotateArray(array, 3)"
   ]
  },
  {
   "cell_type": "markdown",
   "metadata": {},
   "source": [
    "### Oh no! You want to set an entire row and column to zero if the index of an individual element is zero?"
   ]
  },
  {
   "cell_type": "code",
   "execution_count": 249,
   "metadata": {},
   "outputs": [
    {
     "data": {
      "text/plain": [
       "[[1, 2, 0, 4, 5], [0, 0, 0, 0, 0], [11, 7, 0, 9, 3]]"
      ]
     },
     "execution_count": 249,
     "metadata": {},
     "output_type": "execute_result"
    }
   ],
   "source": [
    "array = [[1,2,3,4,5], [6,7,0,5,6], [11,7,8,9,3]]\n",
    "\n",
    "zeros = []\n",
    "for i, lst in enumerate(array):\n",
    "    try:\n",
    "        zeros.append((i, lst.index(0)))# List of (y, x) tuples of the zeros in the input array\n",
    "    except:\n",
    "        continue\n",
    "\n",
    "for zero in zeros:  # Could be made more efficient if you didn't have to repeatedly loop over the indices for each zero...\n",
    "    for i in range(len(array[0])):\n",
    "        for j in range(len(array)):\n",
    "            if (j == zero[0]) | (i == zero[1]):\n",
    "                array[j][i] = 0\n",
    "\n",
    "array"
   ]
  },
  {
   "cell_type": "markdown",
   "metadata": {},
   "source": [
    "### Oh no! You want to check if a string is a rotation of another using one call to a function isSubstring()?"
   ]
  },
  {
   "cell_type": "code",
   "execution_count": 265,
   "metadata": {},
   "outputs": [
    {
     "data": {
      "text/plain": [
       "True"
      ]
     },
     "execution_count": 265,
     "metadata": {},
     "output_type": "execute_result"
    }
   ],
   "source": [
    "def isSubstring(s1, s2):\n",
    "    n1, n2 = len(s1), len(s2)\n",
    "    if n2 > n1:\n",
    "        s1, s2 = s2, s1\n",
    "    if s2 in s1:\n",
    "        return True\n",
    "    else:\n",
    "        return False\n",
    "\n",
    "s1 = 'waterbottle'\n",
    "s2 = 'erbottlewat'\n",
    "\n",
    "isSubstring(s2[s2.index(s1[0]):] + s2[:s2.index(s1[0])], s1)"
   ]
  },
  {
   "cell_type": "markdown",
   "metadata": {},
   "source": [
    "### Oh no! You've run out of questions? Check the linkedLists notebook for more"
   ]
  }
 ],
 "metadata": {
  "kernelspec": {
   "display_name": "Python 3",
   "language": "python",
   "name": "python3"
  },
  "language_info": {
   "codemirror_mode": {
    "name": "ipython",
    "version": 3
   },
   "file_extension": ".py",
   "mimetype": "text/x-python",
   "name": "python",
   "nbconvert_exporter": "python",
   "pygments_lexer": "ipython3",
   "version": "3.8.3"
  }
 },
 "nbformat": 4,
 "nbformat_minor": 4
}
