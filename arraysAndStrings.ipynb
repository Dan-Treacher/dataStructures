{
 "cells": [
  {
   "cell_type": "markdown",
   "metadata": {},
   "source": [
    "### Oh no! You want to check if a string has only unique characters? What if you can't use additional data structures?"
   ]
  },
  {
   "cell_type": "code",
   "execution_count": 33,
   "metadata": {},
   "outputs": [
    {
     "name": "stdout",
     "output_type": "stream",
     "text": [
      "Are there only unique characters in the string qwertqyui? False\n"
     ]
    }
   ],
   "source": [
    "s = 'arbitrary'\n",
    "s = 'qwertqyui'\n",
    "#s = 'uniqe'  # Haaaaa\n",
    "\n",
    "# Start from the first character and loop over the remaining characters to check if it appears again.\n",
    "# If it doesn't start from the second character and loop over remaining\n",
    "# Start from third and repeat...\n",
    "# Should have O(N^2) complexity?\n",
    "\n",
    "def uniqueCharactersInString(s):\n",
    "    noRepeatedCharacters = True\n",
    "    while noRepeatedCharacters:\n",
    "        for i in range(len(s)+1):\n",
    "            for j in range(i+1, len(s)):\n",
    "                #print('i = {}, j = {}, char 1: {}, char2: {}, condition: {}'.format(i, j, s[i], s[j], noRepeatedCharacters))\n",
    "                if s[i] == s[j]:\n",
    "                    noRepeatedCharacters = False\n",
    "                    break\n",
    "            break\n",
    "        break\n",
    "    return noRepeatedCharacters\n",
    "\n",
    "print('Are there only unique characters in the string ' + s + '? {}'.format(uniqueCharactersInString(s)))"
   ]
  },
  {
   "cell_type": "markdown",
   "metadata": {},
   "source": [
    "### On no! You have two strings and want to know whether one is a permutation of the other?"
   ]
  },
  {
   "cell_type": "code",
   "execution_count": 77,
   "metadata": {},
   "outputs": [
    {
     "name": "stdout",
     "output_type": "stream",
     "text": [
      "Is cdab a permutation of abcd? True\n"
     ]
    }
   ],
   "source": [
    "# Direct copy from code I just wrote by hand. Nice\n",
    "def permutation(s1, s2):\n",
    "    k = s1.index(s2[0])\n",
    "    s1 = s1[k:] + s1[:k]\n",
    "    if s1 == s2:\n",
    "        return True\n",
    "    else:\n",
    "        return False\n",
    "\n",
    "\n",
    "# Works fine for strings with no repeated letters\n",
    "s1 = 'abcd'\n",
    "s2 = 'cdab'\n",
    "\n",
    "# Doesn't work so well for strings with repeated letters\n",
    "#s1 = 'abcdec'\n",
    "#s2 = 'cdecab'\n",
    "#s2 = 'cabcde'\n",
    "\n",
    "print('Is {} a permutation of {}? {}'.format(s2, s1, permutation(s1, s2)))"
   ]
  },
  {
   "cell_type": "code",
   "execution_count": 76,
   "metadata": {},
   "outputs": [
    {
     "name": "stdout",
     "output_type": "stream",
     "text": [
      "Is cabcde a permutation of abcdec? True\n"
     ]
    }
   ],
   "source": [
    "# Another version that should handle repeated characters in the given strings\n",
    "def permutationRep(s1, s2):\n",
    "    permutation = False\n",
    "    k = [None]*len(s1)\n",
    "    k[0] = s1.index(s2[0])\n",
    "    for i in range(1, len(s1)):\n",
    "        k[i] = s1[k[0]+1:].index(s2[0]) + k[0] + 1\n",
    "    k = list(set(k))  # Only unique values\n",
    "    #print(k)\n",
    "    for startingPoint in k:\n",
    "        s3 = s1[startingPoint:] + s1[:startingPoint]\n",
    "        if s3 == s2:\n",
    "            permutation = True\n",
    "            break\n",
    "    return permutation\n",
    "\n",
    "# Now works for strings with repeated letters too.\n",
    "s1 = 'abcdec'\n",
    "#s2 = 'cdecab'\n",
    "s2 = 'cabcde'\n",
    "\n",
    "print('Is {} a permutation of {}? {}'.format(s2, s1, permutationRep(s1, s2)))"
   ]
  },
  {
   "cell_type": "markdown",
   "metadata": {},
   "source": [
    "### Oh no! You want to take in a string and output the same string but with %20 instead of the whitespaces?"
   ]
  },
  {
   "cell_type": "code",
   "execution_count": 2,
   "metadata": {},
   "outputs": [
    {
     "name": "stdout",
     "output_type": "stream",
     "text": [
      "my%20name%20is%20john%20doe\n"
     ]
    }
   ],
   "source": [
    "s = 'my name is john doe'\n",
    "t = ''\n",
    "for character in s:\n",
    "    if character == ' ':\n",
    "        t += '%20'\n",
    "    else:\n",
    "        t += character\n",
    "print(t)"
   ]
  },
  {
   "cell_type": "markdown",
   "metadata": {},
   "source": [
    "### Oh no! You want to check if a string is a permutation of a palindrome?"
   ]
  },
  {
   "cell_type": "code",
   "execution_count": 64,
   "metadata": {},
   "outputs": [
    {
     "name": "stdout",
     "output_type": "stream",
     "text": [
      "cocatta attacoc\n",
      "ocattac cattaco\n",
      "cattaco ocattac\n",
      "attacoc cocatta\n",
      "ttacoca acocatt\n",
      "tacocat tacocat\n",
      "acocatt ttacoca\n"
     ]
    },
    {
     "data": {
      "text/plain": [
       "True"
      ]
     },
     "execution_count": 64,
     "metadata": {},
     "output_type": "execute_result"
    }
   ],
   "source": [
    "s = 'co catta'\n",
    "\n",
    "def palindromPermutation(s):\n",
    "    isPalindromePermutation = False\n",
    "    s = s.replace(' ', '')  # whitespaces don't (shouldn't) have any effect\n",
    "    for i in range(len(s)):\n",
    "        testString = s[i:] + s[:i]  # Cycle through permutations\n",
    "        print(testString, testString[::-1])\n",
    "        if testString == testString[::-1]:\n",
    "            isPalindromePermutation = True\n",
    "    return isPalindromePermutation\n",
    "\n",
    "palindromPermutation(s)\n",
    "# Implementation in the book seem massively over engineered and unwieldy. Don't know why it takes three pages to do this..."
   ]
  },
  {
   "cell_type": "markdown",
   "metadata": {},
   "source": [
    "### On no! You want to calculate how many edits away from a word another word is?"
   ]
  },
  {
   "cell_type": "code",
   "execution_count": 132,
   "metadata": {},
   "outputs": [
    {
     "name": "stdout",
     "output_type": "stream",
     "text": [
      "0 e [1, 0, 1, 2, 3, 4, 5, 6]\n",
      "1 x [2, 1, 0, 1, 2, 3, 4, 5]\n",
      "2 a [3, 2, 1, 1, 2, 3, 4, 5]\n",
      "3 m [4, 3, 2, 2, 1, 2, 3, 4]\n",
      "4 p [5, 4, 3, 3, 2, 1, 2, 3]\n",
      "5 l [6, 5, 4, 4, 3, 2, 1, 2]\n",
      "6 e [7, 6, 5, 4, 4, 3, 2, 1]\n",
      "7 s [8, 7, 6, 5, 5, 4, 3, 2]\n"
     ]
    },
    {
     "data": {
      "text/plain": [
       "2"
      ]
     },
     "execution_count": 132,
     "metadata": {},
     "output_type": "execute_result"
    }
   ],
   "source": [
    "def levenshteinDistance(s1, s2):\n",
    "    if len(s1) > len(s2):\n",
    "        s1, s2 = s2, s1\n",
    "\n",
    "    distances = range(len(s1) + 1)\n",
    "    for i2, c2 in enumerate(s2):\n",
    "        distances_ = [i2+1]\n",
    "        for i1, c1 in enumerate(s1):\n",
    "            if c1 == c2:\n",
    "                distances_.append(distances[i1])\n",
    "            else:\n",
    "                distances_.append(1 + min((distances[i1], distances[i1 + 1], distances_[-1])))\n",
    "        distances = distances_\n",
    "        print(i2, c2, distances)\n",
    "    return distances[-1]\n",
    "\n",
    "levenshteinDistance('exemple', 'examples')"
   ]
  },
  {
   "cell_type": "code",
   "execution_count": 88,
   "metadata": {},
   "outputs": [
    {
     "data": {
      "text/plain": [
       "[[0, 1, 2, 3, 4, 5, 6],\n",
       " [1, 1, 2, 3, 4, 5, 6],\n",
       " [2, 2, 2, 2, 3, 4, 5],\n",
       " [3, 3, 3, 3, 3, 4, 5],\n",
       " [4, 4, 4, 4, 4, 4, 5],\n",
       " [5, 5, 5, 5, 5, 5, 5],\n",
       " [6, 6, 6, 6, 6, 6, 5]]"
      ]
     },
     "execution_count": 88,
     "metadata": {},
     "output_type": "execute_result"
    }
   ],
   "source": [
    "# Dynamic programming implementation of the above.\n",
    "\n",
    "#s1 = 'barry'\n",
    "#s2 = 'barrold'\n",
    "\n",
    "s1 = 'tables'\n",
    "s2 = 'chairs'\n",
    "\n",
    "# Initialise the array for subproblem solutions. The +1s are to include the empty string '' as an edge case at the beginning\n",
    "dp = [[0]*(len(s2)+1) for i in range(len(s1)+1)]\n",
    "\n",
    "# To get from '' to '' requires no edits\n",
    "dp[0][0] = (0)\n",
    "\n",
    "# For all cases where the other string is the null string '', the number of edits required is the number of characters in the string\n",
    "for j in range(len(s2)+1):\n",
    "    dp[0][j] = j\n",
    "for i in range(len(s1)+1):\n",
    "    dp[i][0] = i\n",
    "\n",
    "# Loop over all other cases where the strings are of varying length and at each point, the number of edits required is the\n",
    "# minimum of the adjacent upper left edit numbers, plus 1\n",
    "for i in range(1, len(s1)+1):\n",
    "    for j in range(1, len(s2)+1):\n",
    "        if s1[i-1] == s2[j-1]:  # If the letters are the same in the two strings, no edits need to be made (backtrack to earlier case that's the same)\n",
    "            dp[i][j] = dp[i-1][j-1]\n",
    "        else:\n",
    "            dp[i][j] = min(dp[i-1][j], dp[i][j-1], dp[i-1][j-1]) + 1\n",
    "dp"
   ]
  },
  {
   "cell_type": "markdown",
   "metadata": {},
   "source": [
    "### In the above cell, the final entry in dp is 5. This is the same as dp[-2][-2] because solving the number of edits to get from 'tables' to 'chairs' is the same as the number of edits required to get from 'table' to 'chair', as the repeated final character has no effect in the case\n",
    "\n",
    "### The dp table is interpreted as follows: The horizontal direction is the length of string 1 being considered (3rd column means your string is 'ch' instead of 'chairs' because the first column is the null string ''), whilst the vertical direction is the length of string 2\n",
    "\n",
    "### That means that dp[4][3] tells you the number of edits required to map string1[:3] to string2[:4]. Each added character in either string is related to the simpler base case(s) by considering what you would need to do to that string to get to the new one"
   ]
  }
 ],
 "metadata": {
  "kernelspec": {
   "display_name": "Python 3",
   "language": "python",
   "name": "python3"
  },
  "language_info": {
   "codemirror_mode": {
    "name": "ipython",
    "version": 3
   },
   "file_extension": ".py",
   "mimetype": "text/x-python",
   "name": "python",
   "nbconvert_exporter": "python",
   "pygments_lexer": "ipython3",
   "version": "3.7.3"
  }
 },
 "nbformat": 4,
 "nbformat_minor": 4
}
