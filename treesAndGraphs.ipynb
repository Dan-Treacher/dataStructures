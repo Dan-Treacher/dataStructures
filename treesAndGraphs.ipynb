{
 "cells": [
  {
   "cell_type": "markdown",
   "metadata": {},
   "source": [
    "### Trees and graphs\n",
    "\n",
    "### So the basic binary tree comes in a few variants:\n",
    "##### Binary search tree: A tree where each node to the left of the root is smaller, and each to the right of the root is larger. Each child node on the left is smaller than the parent and each child on the right is larger than the parent\n",
    "    \n",
    "##### Complete binary tree: A tree where each layer is fully occupied, having been filled from left to right. Ordering of node contents irrelevant\n",
    "\n",
    "##### Full binary tree: A tree where each node has either zero or two children\n",
    "\n",
    "##### Perfect binary tree: A binary tree that's both full and complete"
   ]
  },
  {
   "cell_type": "code",
   "execution_count": 13,
   "metadata": {},
   "outputs": [
    {
     "name": "stdout",
     "output_type": "stream",
     "text": [
      "123\n",
      "50\n"
     ]
    }
   ],
   "source": [
    "# Need to make a node class that will act as the constituents of the tree\n",
    "class Node:\n",
    "    def __init__(self, data=None):\n",
    "        self.data = data\n",
    "        self.leftChild = None\n",
    "        self.rightChild = None\n",
    "\n",
    "\n",
    "# Need a tree class that will wrap the nodes\n",
    "class Tree:\n",
    "    def __init__(self):\n",
    "        self.root = None\n",
    "    \n",
    "    def insert(self, data):\n",
    "        if self.root is None:\n",
    "            self.root = Node(data)\n",
    "        else:\n",
    "            self._insert(data, self.root)\n",
    "    \n",
    "    def _insert(self, data, node):  # Insert some data passing a reference to the current node to enable recursion\n",
    "        if data < node.data:\n",
    "            if node.leftChild is not None:  # If there's already a leaf there\n",
    "                self._insert(data, node.leftChild)\n",
    "            else:\n",
    "                node.leftChild = Node(data)\n",
    "        else:\n",
    "            if node.rightChild is not None:\n",
    "                self._insert(data, node.rightChild)\n",
    "            else:\n",
    "                node.rightChild = Node(data)\n",
    "\n",
    "\n",
    "t = Tree()\n",
    "t.insert(123)\n",
    "t.insert(50)\n",
    "t.insert(25)\n",
    "print(t.root.data)\n",
    "print(t.root.leftChild.data)\n"
   ]
  },
  {
   "cell_type": "markdown",
   "metadata": {},
   "source": [
    "### Useful to recursively insert values into the tree so you don't have to keep track of layers of inserted nodes\n",
    "\n",
    "### Oh no! You want the whole tree printed out with a given traversal method?"
   ]
  },
  {
   "cell_type": "code",
   "execution_count": 23,
   "metadata": {},
   "outputs": [
    {
     "name": "stdout",
     "output_type": "stream",
     "text": [
      "root = 10\n",
      "Root left child = 1\n",
      "Root right child = 11\n"
     ]
    }
   ],
   "source": [
    "# Start with root\n",
    "t1 = Tree()\n",
    "t1.insert(10)\n",
    "print('root = ' + str(t1.root.data))\n",
    "\n",
    "# Add a few other nodes and leaves\n",
    "t1.insert(1)\n",
    "t1.insert(3)\n",
    "t1.insert(5)\n",
    "t1.insert(7)\n",
    "t1.insert(9)\n",
    "t1.insert(11)\n",
    "t1.insert(13)\n",
    "t1.insert(15)\n",
    "t1.insert(17)\n",
    "t1.insert(19)\n",
    "\n",
    "print('Root left child = ' + str(t1.root.leftChild.data))\n",
    "print('Root right child = ' + str(t1.root.rightChild.data))"
   ]
  },
  {
   "cell_type": "markdown",
   "metadata": {},
   "source": [
    "### Want to make a traversal method to walk through the nodes recursively and print their values.\n",
    "\n",
    "### Start with inorder traversal: (Left child, Parent node, Right child)"
   ]
  },
  {
   "cell_type": "code",
   "execution_count": 53,
   "metadata": {},
   "outputs": [
    {
     "name": "stdout",
     "output_type": "stream",
     "text": [
      "1\n",
      "3\n",
      "5\n",
      "7\n",
      "9\n",
      "9\n",
      "11\n",
      "13\n",
      "15\n",
      "17\n",
      "19\n",
      "19\n"
     ]
    }
   ],
   "source": [
    "node = t1.root\n",
    "def printNodeCluster(node):\n",
    "    if node.leftChild is not None:\n",
    "        printNodeCluster(node.leftChild)\n",
    "    else:\n",
    "        print(node.data)\n",
    "    \n",
    "    if node.rightChild is not None:\n",
    "        printNodeCluster(node.rightChild)\n",
    "    else:\n",
    "        print(node.data)\n",
    "\n",
    "printNodeCluster(node)\n",
    "# Hmmm"
   ]
  },
  {
   "cell_type": "code",
   "execution_count": 52,
   "metadata": {},
   "outputs": [
    {
     "data": {
      "text/plain": [
       "[1, 3, 5, 7, 9, 10, 11, 13, 15, 17, 19]"
      ]
     },
     "execution_count": 52,
     "metadata": {},
     "output_type": "execute_result"
    }
   ],
   "source": [
    "# Make as a cleaned up compact function\n",
    "\n",
    "def inorderTraversal(root):\n",
    "    res = []\n",
    "    if root:\n",
    "        res = inorderTraversal(root.leftChild)  # Recursive call\n",
    "        res.append(root.data)\n",
    "        res = res + inorderTraversal(root.rightChild)\n",
    "    return res\n",
    "\n",
    "inorderTraversal(t1.root)"
   ]
  }
 ],
 "metadata": {
  "kernelspec": {
   "display_name": "Python 3",
   "language": "python",
   "name": "python3"
  },
  "language_info": {
   "codemirror_mode": {
    "name": "ipython",
    "version": 3
   },
   "file_extension": ".py",
   "mimetype": "text/x-python",
   "name": "python",
   "nbconvert_exporter": "python",
   "pygments_lexer": "ipython3",
   "version": "3.7.3"
  }
 },
 "nbformat": 4,
 "nbformat_minor": 4
}
