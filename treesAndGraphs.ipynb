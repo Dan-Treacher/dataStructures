{
 "cells": [
  {
   "cell_type": "markdown",
   "metadata": {},
   "source": [
    "### Trees and graphs\n",
    "\n",
    "### So the basic binary tree comes in a few variants:\n",
    "##### Binary search tree: A tree where each node to the left of the root is smaller, and each to the right of the root is larger. Each child node on the left is smaller than the parent and each child on the right is larger than the parent\n",
    "    \n",
    "##### Complete binary tree: A tree where each layer is fully occupied, having been filled from left to right. Ordering of node contents irrelevant\n",
    "\n",
    "##### Full binary tree: A tree where each node has either zero or two children\n",
    "\n",
    "##### Perfect binary tree: A binary tree that's both full and complete"
   ]
  },
  {
   "cell_type": "code",
   "execution_count": 10,
   "metadata": {},
   "outputs": [
    {
     "name": "stdout",
     "output_type": "stream",
     "text": [
      "123\n",
      "50\n"
     ]
    }
   ],
   "source": [
    "# Need to make a node class that will act as the constituents of the tree\n",
    "class Node:\n",
    "    def __init__(self, data=None):\n",
    "        self.data = data\n",
    "        self.leftChild = None\n",
    "        self.rightChild = None\n",
    "\n",
    "\n",
    "# Need a tree class that will wrap the nodes\n",
    "class Tree:\n",
    "    def __init__(self):\n",
    "        self.root = None\n",
    "    \n",
    "    def insert(self, data):\n",
    "        if self.root is None:\n",
    "            self.root = Node(data)\n",
    "        else:\n",
    "            self._insert(data, self.root)\n",
    "    \n",
    "    def _insert(self, data, node):  # Insert some data passing a reference to the current node to enable recursion\n",
    "        if data < node.data:\n",
    "            if node.leftChild is not None:  # If there's already a leaf there\n",
    "                self._insert(data, node.leftChild)\n",
    "            else:\n",
    "                node.leftChild = Node(data)\n",
    "        else:\n",
    "            if node.rightChild is not None:\n",
    "                self._insert(data, node.rightChild)\n",
    "            else:\n",
    "                node.rightChild = Node(data)\n",
    "\n",
    "\n",
    "t = Tree()\n",
    "t.insert(123)\n",
    "t.insert(50)\n",
    "t.insert(25)\n",
    "print(t.root.data)\n",
    "print(t.root.leftChild.data)\n"
   ]
  },
  {
   "cell_type": "markdown",
   "metadata": {},
   "source": [
    "### Useful to recursively insert values into the tree so you don't have to keep track of layers of inserted nodes\n",
    "\n",
    "### Oh no! You want the whole tree printed out with a given traversal method?"
   ]
  },
  {
   "cell_type": "code",
   "execution_count": 49,
   "metadata": {},
   "outputs": [
    {
     "name": "stdout",
     "output_type": "stream",
     "text": [
      "root = 10\n",
      "Root left child = 1\n",
      "Root right child = 11\n"
     ]
    }
   ],
   "source": [
    "# Start with root\n",
    "t1 = Tree()\n",
    "t1.insert(10)\n",
    "print('root = ' + str(t1.root.data))\n",
    "\n",
    "# Add a few other nodes and leaves\n",
    "t1.insert(1)\n",
    "t1.insert(3)\n",
    "t1.insert(5)\n",
    "t1.insert(7)\n",
    "t1.insert(9)\n",
    "t1.insert(11)\n",
    "t1.insert(13)\n",
    "t1.insert(15)\n",
    "t1.insert(17)\n",
    "t1.insert(19)\n",
    "\n",
    "print('Root left child = ' + str(t1.root.leftChild.data))\n",
    "print('Root right child = ' + str(t1.root.rightChild.data))"
   ]
  },
  {
   "cell_type": "markdown",
   "metadata": {},
   "source": [
    "### Want to make a traversal method to walk through the nodes recursively and print their values.\n",
    "\n",
    "### Start with inorder traversal: (Left child, Parent node, Right child)"
   ]
  },
  {
   "cell_type": "code",
   "execution_count": 50,
   "metadata": {},
   "outputs": [
    {
     "name": "stdout",
     "output_type": "stream",
     "text": [
      "1\n",
      "3\n",
      "5\n",
      "7\n",
      "9\n",
      "9\n",
      "11\n",
      "13\n",
      "15\n",
      "17\n",
      "19\n",
      "19\n"
     ]
    }
   ],
   "source": [
    "node = t1.root\n",
    "def printNodeCluster(node):\n",
    "    if node.leftChild is not None:\n",
    "        printNodeCluster(node.leftChild)\n",
    "    else:\n",
    "        print(node.data)\n",
    "    \n",
    "    if node.rightChild is not None:\n",
    "        printNodeCluster(node.rightChild)\n",
    "    else:\n",
    "        print(node.data)\n",
    "\n",
    "printNodeCluster(node)\n",
    "# Hmmm"
   ]
  },
  {
   "cell_type": "code",
   "execution_count": 51,
   "metadata": {},
   "outputs": [
    {
     "data": {
      "text/plain": [
       "[1, 3, 5, 7, 9, 10, 11, 13, 15, 17, 19]"
      ]
     },
     "execution_count": 51,
     "metadata": {},
     "output_type": "execute_result"
    }
   ],
   "source": [
    "# Make as a cleaned up compact function\n",
    "\n",
    "def inorderTraversal(root):\n",
    "    res = []\n",
    "    if root:\n",
    "        res = inorderTraversal(root.leftChild)  # Recursive call\n",
    "        res.append(root.data)\n",
    "        res = res + inorderTraversal(root.rightChild)\n",
    "    return res\n",
    "\n",
    "inorderTraversal(t1.root)"
   ]
  },
  {
   "cell_type": "code",
   "execution_count": 72,
   "metadata": {},
   "outputs": [
    {
     "name": "stdout",
     "output_type": "stream",
     "text": [
      "In order traversal: ['a', 'b', 'c', 'd', 'e', 'f', 'g']\n",
      "Nodes around root (Inorder): ['a', 'd', 'e']\n"
     ]
    }
   ],
   "source": [
    "# Another quick example\n",
    "t2 = Tree()\n",
    "t2.insert('d')  # Root\n",
    "t2.insert('a')  # Should go to the left\n",
    "t2.insert('b')  # Left\n",
    "t2.insert('c')  # Left\n",
    "t2.insert('e')  # Right\n",
    "t2.insert('f')  # Right\n",
    "t2.insert('g')  # Right\n",
    "\n",
    "print('In order traversal: {}'.format(inorderTraversal(t2.root)))  # Alphabetically ordered despite input ordering (as desired)\n",
    "print('Nodes around root (Inorder): {}'.format([t2.root.leftChild.data, t2.root.data, t2.root.rightChild.data]))"
   ]
  },
  {
   "cell_type": "markdown",
   "metadata": {},
   "source": [
    "### Oh no! You want to do breadth first traversal of a tree? Looks like you need an adjacency list first, where the adjacency list is either an array of linked lists or a dictionary of edges and connected vertices. We'll make a linked list class first because I like them"
   ]
  },
  {
   "cell_type": "code",
   "execution_count": 1,
   "metadata": {},
   "outputs": [],
   "source": [
    "# Nodes for the linked list\n",
    "class ListNode:\n",
    "    def __init__(self, data=None):\n",
    "        if data is not None:\n",
    "            self.data = data\n",
    "        else:\n",
    "            self.data = None\n",
    "        self.next = None\n",
    "\n",
    "\n",
    "# Linked list class\n",
    "class LinkedList:\n",
    "    \n",
    "    # Initialise list with data if it's given\n",
    "    def __init__(self, data=None):\n",
    "        # Assuming data is passed as an array of strings or something\n",
    "        self.head = None\n",
    "        \n",
    "        if data is not None:\n",
    "            node = ListNode(data.pop(0))\n",
    "            self.head = node\n",
    "            \n",
    "            for entry in data:  # Note that data will be missing it's first element here as it was popped off in the line above\n",
    "                node.next = ListNode(entry)\n",
    "                node = node.next\n",
    "    \n",
    "    def __repr__(self):\n",
    "        # Walk through the list, record the data at each node and print it out nicely\n",
    "        data = []\n",
    "        node = self.head\n",
    "        while node is not None:\n",
    "            data.append(node.data)\n",
    "            node = node.next\n",
    "        data.append('None')\n",
    "        \n",
    "        # Check data type of the input data and format accordingly\n",
    "        if type(data[0]) == str:\n",
    "            return ' -> '.join(data)\n",
    "        elif type(data[0]) in [float, int]:\n",
    "            return ' -> '.join(list(map(str, data)))\n",
    "        else:\n",
    "            return 'Data type is messed up. Check input type'\n",
    "    \n",
    "    def __iter__(self):\n",
    "        node = self.head\n",
    "        while node is not None:\n",
    "            yield node\n",
    "            node = node.next"
   ]
  },
  {
   "attachments": {
    "undirectedGraph.jpg": {
     "image/jpeg": "[encoded data removed]"
    }
   },
   "cell_type": "markdown",
   "metadata": {},
   "source": [
    "### Now that we've got a linked list class, we can build the adjacency list for a given tree - see the example undirectedGraph.jpg in github/dataStructures, replicated here for convenience\n",
    "\n",
    "![undirectedGraph.jpg](attachment:undirectedGraph.jpg)"
   ]
  },
  {
   "cell_type": "code",
   "execution_count": 2,
   "metadata": {},
   "outputs": [
    {
     "name": "stdout",
     "output_type": "stream",
     "text": [
      "Linked list representation:\n",
      "b -> c -> None\n",
      "a -> c -> d -> None\n",
      "a -> b -> f -> None\n",
      "b -> e -> None\n",
      "d -> f -> g -> None\n",
      "c -> e -> None\n",
      "e -> h -> None\n",
      "g -> None\n"
     ]
    }
   ],
   "source": [
    "# By inspecting the graph, the adjacency list as an array of linked lists is:\n",
    "numberOfNodes = 8\n",
    "adj = [None]*numberOfNodes\n",
    "\n",
    "# Index 0 of adjacency list will be the nodes connected directly to node 'a' etc\n",
    "adj[0] = LinkedList(['b', 'c'])\n",
    "adj[1] = LinkedList(['a', 'c', 'd'])\n",
    "adj[2] = LinkedList(['a', 'b', 'f'])\n",
    "adj[3] = LinkedList(['b', 'e'])\n",
    "adj[4] = LinkedList(['d', 'f', 'g'])\n",
    "adj[5] = LinkedList(['c', 'e'])\n",
    "adj[6] = LinkedList(['e', 'h'])\n",
    "adj[7] = LinkedList(['g'])\n",
    "print('Linked list representation:')\n",
    "for ll in adj:\n",
    "    print(ll)"
   ]
  },
  {
   "cell_type": "code",
   "execution_count": 4,
   "metadata": {},
   "outputs": [
    {
     "name": "stdout",
     "output_type": "stream",
     "text": [
      "Dictionary of edges and vertices representation:\n"
     ]
    },
    {
     "data": {
      "text/plain": [
       "{'a': ['b', 'c'],\n",
       " 'b': ['a', 'c', 'd'],\n",
       " 'c': ['a', 'b', 'f'],\n",
       " 'd': ['b', 'e'],\n",
       " 'e': ['d', 'f', 'g'],\n",
       " 'f': ['c', 'e'],\n",
       " 'g': ['e', 'h'],\n",
       " 'h': ['g']}"
      ]
     },
     "execution_count": 4,
     "metadata": {},
     "output_type": "execute_result"
    }
   ],
   "source": [
    "# We can also represent a graph as a dictionary of {edges: Connected vertices}\n",
    "graph = {'a': ['b', 'c'],\n",
    "         'b': ['a', 'c', 'd'],\n",
    "         'c': ['a', 'b', 'f'],\n",
    "         'd': ['b', 'e'],\n",
    "         'e': ['d', 'f', 'g'],\n",
    "         'f': ['c', 'e'],\n",
    "         'g': ['e', 'h'],\n",
    "         'h': ['g']\n",
    "        }\n",
    "print('Dictionary of edges and vertices representation:')\n",
    "graph"
   ]
  },
  {
   "cell_type": "markdown",
   "metadata": {},
   "source": [
    "### With these representations in hand, we can do the breadth first search from a given node:"
   ]
  },
  {
   "cell_type": "code",
   "execution_count": 15,
   "metadata": {},
   "outputs": [],
   "source": [
    "# Inputs are s: root node and adj: adjacency list\n",
    "def breadthFirstSearch(s, adj):\n",
    "    level = {s: 0}\n",
    "    parent = {s: None}\n",
    "    i = 1\n",
    "    frontier = [s]\n",
    "    while frontier:\n",
    "        print(frontier)\n",
    "        next = []\n",
    "        for u in frontier:\n",
    "            for v in adj[u]:\n",
    "                if v not in level:\n",
    "                    level[v] = i\n",
    "                    parent[v] = u\n",
    "                    next.append(v)\n",
    "        frontier = next\n",
    "        i += 1\n",
    "    return parent"
   ]
  },
  {
   "cell_type": "code",
   "execution_count": 18,
   "metadata": {},
   "outputs": [
    {
     "name": "stdout",
     "output_type": "stream",
     "text": [
      "['d']\n",
      "['b', 'e']\n",
      "['a', 'c', 'f', 'g']\n",
      "['h']\n"
     ]
    }
   ],
   "source": [
    "# Call the above function which will print the next layer of nodes on a breadth first basis starting from arg1\n",
    "\n",
    "# So starting from node 'd' in undirectedGraph.jpg...\n",
    "parentStructure = breadthFirstSearch('d', graph)\n",
    "# ... Level 0 is node 'd' itself\n",
    "# the first layer out (reachable by only one edge) includes nodes 'b' and 'e'\n",
    "# the second layer out includes nodes 'a', 'c', 'f' and 'g'\n",
    "# whilst the final layer is only node 'h'"
   ]
  },
  {
   "cell_type": "code",
   "execution_count": 19,
   "metadata": {},
   "outputs": [
    {
     "data": {
      "text/plain": [
       "{'d': None,\n",
       " 'b': 'd',\n",
       " 'e': 'd',\n",
       " 'a': 'b',\n",
       " 'c': 'b',\n",
       " 'f': 'e',\n",
       " 'g': 'e',\n",
       " 'h': 'g'}"
      ]
     },
     "execution_count": 19,
     "metadata": {},
     "output_type": "execute_result"
    }
   ],
   "source": [
    "parentStructure"
   ]
  },
  {
   "cell_type": "markdown",
   "metadata": {},
   "source": [
    "### The parent structure gives you a shortest (Not necessarily unique, but it will be one of the shortest) path from a given node back to the parent that you started the search from.\n",
    "\n",
    "### For example, in the above, starting from node 'g', the immediate parent is 'e', which has a parent of 'd', the starting node. In other words, a shortest path from 'g' to 'd' is 'g' -> 'e' -> 'd'"
   ]
  }
 ],
 "metadata": {
  "kernelspec": {
   "display_name": "Python 3",
   "language": "python",
   "name": "python3"
  },
  "language_info": {
   "codemirror_mode": {
    "name": "ipython",
    "version": 3
   },
   "file_extension": ".py",
   "mimetype": "text/x-python",
   "name": "python",
   "nbconvert_exporter": "python",
   "pygments_lexer": "ipython3",
   "version": "3.7.3"
  }
 },
 "nbformat": 4,
 "nbformat_minor": 4
}
