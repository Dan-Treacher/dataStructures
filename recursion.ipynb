{
 "cells": [
  {
   "cell_type": "markdown",
   "metadata": {},
   "source": [
    "### A few examples of writing functions recursively along with a dynamic programming approach"
   ]
  },
  {
   "cell_type": "code",
   "execution_count": 33,
   "metadata": {},
   "outputs": [
    {
     "name": "stdout",
     "output_type": "stream",
     "text": [
      "8\n"
     ]
    }
   ],
   "source": [
    "# Function to comput the nth fibonacci number\n",
    "def fibonacci(n):\n",
    "    if n == 0:\n",
    "        return 0\n",
    "    elif n == 1:\n",
    "        return 1\n",
    "    else:\n",
    "        return fibonacci(n-1) + fibonacci(n-2)\n",
    "\n",
    "# This works and has O(2^n) runtime (dictated by the number of calls made)\n",
    "print(fibonacci(6))"
   ]
  },
  {
   "cell_type": "code",
   "execution_count": 24,
   "metadata": {},
   "outputs": [],
   "source": [
    "# Dynamic programming involves recording a cache of simpler results that can be used to solve more complex calls.\n",
    "def dp_fibonacci(n):\n",
    "    cache = [0, 1]\n",
    "    \n",
    "    if n <= len(cache):\n",
    "        return cache[n]\n",
    "    \n",
    "    for i in range(2, n+1):\n",
    "        cache.append(cache[i-2] + cache[i-1])\n",
    "    return cache[-1]"
   ]
  },
  {
   "cell_type": "code",
   "execution_count": 31,
   "metadata": {},
   "outputs": [
    {
     "name": "stdout",
     "output_type": "stream",
     "text": [
      "8\n",
      "14909059039666631258104\n"
     ]
    }
   ],
   "source": [
    "# This has a runtime of O(n) so can calculate much larger values than the recursive approach\n",
    "print(dp_fibonacci(6))\n",
    "print(dp_fibonacci(6000))  # Recursive function for n=600 crashes my computer. Dynamic method finds the 6,000th one in a fraction of a second"
   ]
  },
  {
   "cell_type": "markdown",
   "metadata": {},
   "source": [
    "### Oh no! A child is running up n stairs and can take steps of either 1, 2 or 3. Calculate the number of possible ways the child can run up the stairs."
   ]
  },
  {
   "cell_type": "code",
   "execution_count": 52,
   "metadata": {},
   "outputs": [
    {
     "name": "stdout",
     "output_type": "stream",
     "text": [
      "7\n"
     ]
    }
   ],
   "source": [
    "# If n=1, then the number of ways is 1\n",
    "# If n=2, then the number of ways is 2: (1+1 steps, 2 steps)\n",
    "# If n=3, then the number of ways is 4: (1+1+1, 1+2, 2+1, 3)\n",
    "\n",
    "# If n=n+1 then the number of ways is the same as n steps + some extra amount corresponding to the last added step. This last\n",
    "# step can be reached either with an additional step of size 1 from the nth configuration, additional steps of size (2, 1+1)\n",
    "# from the n-2th configuration or additional steps of size (1+1+1, 1+2, 2+1, 3) from the n-3th configuation\n",
    "\n",
    "# e.g. x[9] different ways of getting up the steps if n=9. If n=10, you have (x[9]+1) + (x[8]+2) + (x[7]+3)\n",
    "# We know that x[0]=1, x[1]=1, x[2]=2, x[3]=4\n",
    "\n",
    "def numberOfWays(n):\n",
    "    cache = [1, 1, 2, 4]  # Initialise the base cases of there being 0, 1, 2 or 3 steps\n",
    "    if n <= len(cache)-1:\n",
    "        return cache[n]  # nth entry in the cache is the number of ways of getting up n stairs\n",
    "    else:\n",
    "        for n in range(4, n+1):\n",
    "            #cache.append((cache[n-1]+1) + (cache[n-2]+2) + (cache[n-3]+4))\n",
    "            cache.append(cache[n-1] + cache[n-2] + cache[n-3])\n",
    "        return cache[-1]\n",
    "\n",
    "print(numberOfWays(4))  # numberOfWays(10) = 274. Seems to work."
   ]
  },
  {
   "cell_type": "markdown",
   "metadata": {},
   "source": [
    "### Note the edited out line in the for loop. You don't need to add all the different ways of getting to the nth step from n-1th, n-2th and n-3th, you only need to add their raw value as this correponds to 'one way of getting to n from n-1 or n-2 or n-3'\n",
    "\n",
    "### You don't need to add 1 or 2 or 4 because you'd be redundantly overcounting methods of getting to susbequent steps: for n=5, you can get there from n=4 with steps (1), or from n=3 with steps (1+1, 2) ... but the 1+1 takes you unavoidably to n=4 which has already been counted. You therefore only need to count the number to get to n-i without thinking about how many additional ways you can get there from prior steps\n",
    "\n",
    "### Note further that the above isn't recursively calling itself which would result in an O(3^n) runtime (O(branches^depth)), instead by repeately calling the calculated numbers in cache, this is O(n)"
   ]
  },
  {
   "cell_type": "markdown",
   "metadata": {},
   "source": [
    "### Oh no again! There's a robot in a grid with r rows and c columns. It can only move right or down, but some cells in the grid are off limits. Design an algorithm to navigate the robot from the top left to the bottom right"
   ]
  },
  {
   "cell_type": "code",
   "execution_count": 118,
   "metadata": {},
   "outputs": [
    {
     "data": {
      "text/plain": [
       "[[82, 0, 0, 0, 0],\n",
       " [0, 1, 0, 0, 0],\n",
       " [0, 0, 1, 0, 0],\n",
       " [0, 0, 0, 0, 0],\n",
       " [0, 0, 0, 0, 0]]"
      ]
     },
     "execution_count": 118,
     "metadata": {},
     "output_type": "execute_result"
    }
   ],
   "source": [
    "# Base case for this is a 2x2 grid with the robot in top left.\n",
    "# From here, the robot can move either right or down, with the only applicable obstructions being located in the top right or\n",
    "# lower left.\n",
    "\n",
    "# There are 5(?) instances of the base case: with R denoting robot, and 0/1 denoting absence or presence of an obstruction we \n",
    "# could have [R,0;0,0], [R,1;0,0], [R,0;1,0], [R,0;0,1], [R,1;0,1]\n",
    "# Edge cases for game over: [R,1;1,0], [R,1;1,1]\n",
    "\n",
    "startingLocation = (0, 0)\n",
    "x, y = startingLocation\n",
    "r, c = 5, 5  # Initial grid parameters\n",
    "obstructions = [(1,1), (2,2)]  # List of tuples describing the cells that are off limits\n",
    "\n",
    "# Make a little grid so it's easier to see.\n",
    "grid = [[0]*r for i in range(c)]\n",
    "for obstruction in obstructions:\n",
    "    grid[obstruction[0]][obstruction[1]] = 1\n",
    "grid[0][0] = ord('R')  # ASCII code for letter R for robot.\n",
    "grid"
   ]
  },
  {
   "cell_type": "markdown",
   "metadata": {},
   "source": [
    "### So the robot wants to get to bottom right. Best strategy is probably to alternate steps, otherwise he could get stuck in edge cases when encountering obstructions either in the bottom row or last column"
   ]
  },
  {
   "cell_type": "code",
   "execution_count": 122,
   "metadata": {},
   "outputs": [
    {
     "name": "stdout",
     "output_type": "stream",
     "text": [
      "[82, 0, 1, 0]\n"
     ]
    }
   ],
   "source": [
    "moves = ['rd', 'dr', 'rd', 'd', 'd']  # first 'd' corresponds to [R,0;0,1], because it just navigates you into [R,1;?,?]\n",
    "configs = [[82, 0, 0, 0], [82, 1, 0, 0], [82, 0, 1, 0], [82, 0, 0, 1], [82, 1, 0, 1]]  # All possible configurations of the\n",
    "# board that don't include edge cases\n",
    "\n",
    "def returnState(x, y):\n",
    "    return[82, grid[y][x+1], grid[y+1][x], grid[y+1][x+1]]  # Inspect the three grid neighbours\n",
    "\n",
    "print(returnState(1,0))"
   ]
  },
  {
   "cell_type": "code",
   "execution_count": 140,
   "metadata": {},
   "outputs": [
    {
     "name": "stdout",
     "output_type": "stream",
     "text": [
      "[82, 0, 0, 1] 3\n",
      "Old x,y = 0,0\n",
      "New x,y = 0,1\n",
      "[82, 1, 0, 0] 1\n",
      "Old x,y = 0,1\n",
      "New x,y = 1,2\n",
      "[82, 1, 0, 0] 1\n",
      "Old x,y = 1,2\n",
      "New x,y = 2,3\n",
      "[82, 0, 0, 0] 0\n",
      "Old x,y = 2,3\n",
      "New x,y = 3,4\n",
      "Might have crashed somewhere\n"
     ]
    },
    {
     "ename": "IndexError",
     "evalue": "list index out of range",
     "output_type": "error",
     "traceback": [
      "\u001b[1;31m---------------------------------------------------------------------------\u001b[0m",
      "\u001b[1;31mIndexError\u001b[0m                                Traceback (most recent call last)",
      "\u001b[1;32m<ipython-input-140-1cc02b04db83>\u001b[0m in \u001b[0;36m<module>\u001b[1;34m\u001b[0m\n\u001b[0;32m      1\u001b[0m \u001b[0mx\u001b[0m\u001b[1;33m,\u001b[0m \u001b[0my\u001b[0m \u001b[1;33m=\u001b[0m \u001b[1;36m0\u001b[0m\u001b[1;33m,\u001b[0m \u001b[1;36m0\u001b[0m\u001b[1;33m\u001b[0m\u001b[1;33m\u001b[0m\u001b[0m\n\u001b[0;32m      2\u001b[0m \u001b[1;32mwhile\u001b[0m \u001b[1;33m(\u001b[0m\u001b[0mx\u001b[0m \u001b[1;33m<=\u001b[0m \u001b[0mr\u001b[0m\u001b[1;33m-\u001b[0m\u001b[1;36m1\u001b[0m\u001b[1;33m)\u001b[0m \u001b[1;32mand\u001b[0m \u001b[1;33m(\u001b[0m\u001b[0my\u001b[0m \u001b[1;33m<=\u001b[0m \u001b[0mc\u001b[0m\u001b[1;33m-\u001b[0m\u001b[1;36m1\u001b[0m\u001b[1;33m)\u001b[0m\u001b[1;33m:\u001b[0m\u001b[1;33m\u001b[0m\u001b[1;33m\u001b[0m\u001b[0m\n\u001b[1;32m----> 3\u001b[1;33m     \u001b[0mdecision\u001b[0m \u001b[1;33m=\u001b[0m \u001b[0mconfigs\u001b[0m\u001b[1;33m.\u001b[0m\u001b[0mindex\u001b[0m\u001b[1;33m(\u001b[0m\u001b[0mreturnState\u001b[0m\u001b[1;33m(\u001b[0m\u001b[0mx\u001b[0m\u001b[1;33m,\u001b[0m\u001b[0my\u001b[0m\u001b[1;33m)\u001b[0m\u001b[1;33m)\u001b[0m  \u001b[1;31m# Index of the move in moves that needs to be executed\u001b[0m\u001b[1;33m\u001b[0m\u001b[1;33m\u001b[0m\u001b[0m\n\u001b[0m\u001b[0;32m      4\u001b[0m     \u001b[0mprint\u001b[0m\u001b[1;33m(\u001b[0m\u001b[0mreturnState\u001b[0m\u001b[1;33m(\u001b[0m\u001b[0mx\u001b[0m\u001b[1;33m,\u001b[0m\u001b[0my\u001b[0m\u001b[1;33m)\u001b[0m\u001b[1;33m,\u001b[0m \u001b[0mdecision\u001b[0m\u001b[1;33m)\u001b[0m\u001b[1;33m\u001b[0m\u001b[1;33m\u001b[0m\u001b[0m\n\u001b[0;32m      5\u001b[0m     \u001b[1;32mif\u001b[0m \u001b[0mmoves\u001b[0m\u001b[1;33m[\u001b[0m\u001b[0mdecision\u001b[0m\u001b[1;33m]\u001b[0m \u001b[1;33m==\u001b[0m \u001b[1;34m'rd'\u001b[0m\u001b[1;33m:\u001b[0m\u001b[1;33m\u001b[0m\u001b[1;33m\u001b[0m\u001b[0m\n",
      "\u001b[1;32m<ipython-input-122-f8fbd7243efd>\u001b[0m in \u001b[0;36mreturnState\u001b[1;34m(x, y)\u001b[0m\n\u001b[0;32m      4\u001b[0m \u001b[1;33m\u001b[0m\u001b[0m\n\u001b[0;32m      5\u001b[0m \u001b[1;32mdef\u001b[0m \u001b[0mreturnState\u001b[0m\u001b[1;33m(\u001b[0m\u001b[0mx\u001b[0m\u001b[1;33m,\u001b[0m \u001b[0my\u001b[0m\u001b[1;33m)\u001b[0m\u001b[1;33m:\u001b[0m\u001b[1;33m\u001b[0m\u001b[1;33m\u001b[0m\u001b[0m\n\u001b[1;32m----> 6\u001b[1;33m     \u001b[1;32mreturn\u001b[0m\u001b[1;33m[\u001b[0m\u001b[1;36m82\u001b[0m\u001b[1;33m,\u001b[0m \u001b[0mgrid\u001b[0m\u001b[1;33m[\u001b[0m\u001b[0my\u001b[0m\u001b[1;33m]\u001b[0m\u001b[1;33m[\u001b[0m\u001b[0mx\u001b[0m\u001b[1;33m+\u001b[0m\u001b[1;36m1\u001b[0m\u001b[1;33m]\u001b[0m\u001b[1;33m,\u001b[0m \u001b[0mgrid\u001b[0m\u001b[1;33m[\u001b[0m\u001b[0my\u001b[0m\u001b[1;33m+\u001b[0m\u001b[1;36m1\u001b[0m\u001b[1;33m]\u001b[0m\u001b[1;33m[\u001b[0m\u001b[0mx\u001b[0m\u001b[1;33m]\u001b[0m\u001b[1;33m,\u001b[0m \u001b[0mgrid\u001b[0m\u001b[1;33m[\u001b[0m\u001b[0my\u001b[0m\u001b[1;33m+\u001b[0m\u001b[1;36m1\u001b[0m\u001b[1;33m]\u001b[0m\u001b[1;33m[\u001b[0m\u001b[0mx\u001b[0m\u001b[1;33m+\u001b[0m\u001b[1;36m1\u001b[0m\u001b[1;33m]\u001b[0m\u001b[1;33m]\u001b[0m  \u001b[1;31m# Inspect the three grid neighbours\u001b[0m\u001b[1;33m\u001b[0m\u001b[1;33m\u001b[0m\u001b[0m\n\u001b[0m\u001b[0;32m      7\u001b[0m \u001b[1;33m\u001b[0m\u001b[0m\n\u001b[0;32m      8\u001b[0m \u001b[0mprint\u001b[0m\u001b[1;33m(\u001b[0m\u001b[0mreturnState\u001b[0m\u001b[1;33m(\u001b[0m\u001b[1;36m1\u001b[0m\u001b[1;33m,\u001b[0m\u001b[1;36m0\u001b[0m\u001b[1;33m)\u001b[0m\u001b[1;33m)\u001b[0m\u001b[1;33m\u001b[0m\u001b[1;33m\u001b[0m\u001b[0m\n",
      "\u001b[1;31mIndexError\u001b[0m: list index out of range"
     ]
    }
   ],
   "source": [
    "x, y = 0, 0\n",
    "while (x <= r-1) and (y <= c-1):\n",
    "    decision = configs.index(returnState(x,y))  # Index of the move in moves that needs to be executed\n",
    "    print(returnState(x,y), decision)\n",
    "    if moves[decision] == 'rd':\n",
    "        print('Old x,y = {},{}'.format(x,y))\n",
    "        x += 1\n",
    "        y += 1\n",
    "        print('New x,y = {},{}'.format(x,y))\n",
    "    if moves[decision] == 'dr':\n",
    "        print('Old x,y = {},{}'.format(x,y))\n",
    "        y += 1\n",
    "        x += 1\n",
    "        print('New x,y = {},{}'.format(x,y))\n",
    "    elif moves[decision] == 'd':\n",
    "        print('Old x,y = {},{}'.format(x,y))\n",
    "        y += 1\n",
    "        print('New x,y = {},{}'.format(x,y))\n",
    "    else:\n",
    "        print('Might have crashed somewhere')"
   ]
  },
  {
   "cell_type": "markdown",
   "metadata": {},
   "source": [
    "### Kind of working, but not really using dynamic programming, or preferentially trying to get to the lower right corner...\n",
    "\n",
    "### Apparently better to start at the end and work backwards adding steps unless they're not allowed"
   ]
  },
  {
   "cell_type": "code",
   "execution_count": 141,
   "metadata": {},
   "outputs": [],
   "source": [
    "def get_path(grid):\n",
    "    if grid is None or len(grid) == 0:\n",
    "        return None\n",
    "    path = []\n",
    "    failed = []\n",
    "    if helper(grid, len(grid)-1, len(grid[0])-1, path, failed):\n",
    "        return path\n",
    "    return None\n",
    "    \n",
    "def helper(grid, row, col, path, failed):\n",
    "    if row < 0 or col < 0 or grid[row][col] is None:\n",
    "        return False\n",
    "        \n",
    "    point = (row,col)\n",
    "    \n",
    "    # Already visited this and failed!\n",
    "    if point in failed:\n",
    "        return False\n",
    "        \n",
    "    # If at origin then the path has made it all the way!\n",
    "    if point == (0,0) or helper(grid, row-1, col, path, failed) or helper(grid, row, col-1, path, failed):\n",
    "        path.append(point)\n",
    "        return True\n",
    "        \n",
    "    failed.append(point)\n",
    "    return False"
   ]
  },
  {
   "cell_type": "code",
   "execution_count": 143,
   "metadata": {},
   "outputs": [
    {
     "name": "stdout",
     "output_type": "stream",
     "text": [
      "[(0, 0), (0, 1), (0, 2), (0, 3), (1, 3), (2, 3), (2, 4), (2, 5), (2, 6), (3, 6)]\n"
     ]
    }
   ],
   "source": [
    "grid = [[0, 0, 0, 0, 0, 0, None],\n",
    "        [0, None, None, 0, None, None, 0],\n",
    "        [0, 0, None, 0, 0, 0, 0],\n",
    "        [None, None, 0, 0, 0, None, 0]]\n",
    "\n",
    "print(get_path(grid))"
   ]
  }
 ],
 "metadata": {
  "kernelspec": {
   "display_name": "Python 3",
   "language": "python",
   "name": "python3"
  },
  "language_info": {
   "codemirror_mode": {
    "name": "ipython",
    "version": 3
   },
   "file_extension": ".py",
   "mimetype": "text/x-python",
   "name": "python",
   "nbconvert_exporter": "python",
   "pygments_lexer": "ipython3",
   "version": "3.7.3"
  }
 },
 "nbformat": 4,
 "nbformat_minor": 4
}
