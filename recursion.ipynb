{
 "cells": [
  {
   "cell_type": "markdown",
   "metadata": {},
   "source": [
    "### A few examples of writing functions recursively along with a dynamic programming approach"
   ]
  },
  {
   "cell_type": "code",
   "execution_count": 33,
   "metadata": {},
   "outputs": [
    {
     "name": "stdout",
     "output_type": "stream",
     "text": [
      "8\n"
     ]
    }
   ],
   "source": [
    "# Function to comput the nth fibonacci number\n",
    "def fibonacci(n):\n",
    "    if n == 0:\n",
    "        return 0\n",
    "    elif n == 1:\n",
    "        return 1\n",
    "    else:\n",
    "        return fibonacci(n-1) + fibonacci(n-2)\n",
    "\n",
    "# This works and has O(2^n) runtime (dictated by the number of calls made)\n",
    "print(fibonacci(6))"
   ]
  },
  {
   "cell_type": "code",
   "execution_count": 24,
   "metadata": {},
   "outputs": [],
   "source": [
    "# Dynamic programming involves recording a cache of simpler results that can be used to solve more complex calls.\n",
    "def dp_fibonacci(n):\n",
    "    cache = [0, 1]\n",
    "    \n",
    "    if n <= len(cache):\n",
    "        return cache[n]\n",
    "    \n",
    "    for i in range(2, n+1):\n",
    "        cache.append(cache[i-2] + cache[i-1])\n",
    "    return cache[-1]"
   ]
  },
  {
   "cell_type": "code",
   "execution_count": 31,
   "metadata": {},
   "outputs": [
    {
     "name": "stdout",
     "output_type": "stream",
     "text": [
      "8\n",
      "14909059039666631258104\n"
     ]
    }
   ],
   "source": [
    "# Hmmm, seems to work a little too easily.\n",
    "print(dp_fibonacci(6))\n",
    "print(dp_fibonacci(6000))  # Recursive function can't compute 600th number without crashing my computer. Dynamic method finds the 6,000th one ins fraction of a second"
   ]
  }
 ],
 "metadata": {
  "kernelspec": {
   "display_name": "Python 3",
   "language": "python",
   "name": "python3"
  },
  "language_info": {
   "codemirror_mode": {
    "name": "ipython",
    "version": 3
   },
   "file_extension": ".py",
   "mimetype": "text/x-python",
   "name": "python",
   "nbconvert_exporter": "python",
   "pygments_lexer": "ipython3",
   "version": "3.7.3"
  }
 },
 "nbformat": 4,
 "nbformat_minor": 4
}
