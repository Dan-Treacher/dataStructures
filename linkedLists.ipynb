{
 "cells": [
  {
   "cell_type": "markdown",
   "metadata": {},
   "source": [
    "### Implementation of singly linked list from scratch"
   ]
  },
  {
   "cell_type": "code",
   "execution_count": 40,
   "metadata": {},
   "outputs": [
    {
     "data": {
      "text/plain": [
       "'This working?'"
      ]
     },
     "execution_count": 40,
     "metadata": {},
     "output_type": "execute_result"
    }
   ],
   "source": [
    "# Need a node class\n",
    "\n",
    "# Each node has some data, and also a pointer to the next node in the chain\n",
    "class Node:\n",
    "    def __init__(self, data):\n",
    "        self.data = data\n",
    "        self.next = None\n",
    "\n",
    "n1 = Node('This working?')\n",
    "n1.data"
   ]
  },
  {
   "cell_type": "code",
   "execution_count": 41,
   "metadata": {},
   "outputs": [
    {
     "data": {
      "text/plain": [
       "This working? -> None"
      ]
     },
     "execution_count": 41,
     "metadata": {},
     "output_type": "execute_result"
    }
   ],
   "source": [
    "# Need a linked list class to put the nodes in\n",
    "\n",
    "class linkedList:\n",
    "\n",
    "    def __init__(self, nodes=None):\n",
    "        # Note that here, the argument nodes should be a list of strings, not a list of nodes or anything like that\n",
    "\n",
    "        self.head = None  # Initialise the head as an empty slot until filled\n",
    "        if nodes is not None:\n",
    "            # If you input a list of strings (that isn't empty), then take the first one as the head node\n",
    "            node = Node(data=nodes.pop(0))  # pop(0) REMOVES the first entry and returns it, so the next for loop doesn't repeat the first entry\n",
    "            self.head = node\n",
    "            for entry in nodes:  # Walk through the list of data and take them all to be nodes and link them together\n",
    "                node.next = Node(data=entry)\n",
    "                node = node.next\n",
    "\n",
    "    # Add another method to walk through all nodes displaying their data when linkedlist is called\n",
    "    def __repr__(self):\n",
    "        node = self.head\n",
    "        nodes = []\n",
    "        while node is not None:\n",
    "            nodes.append(node.data)\n",
    "            node = node.next\n",
    "        nodes.append('None')\n",
    "        return \" -> \".join(nodes)\n",
    "\n",
    "linkL = linkedList()\n",
    "linkL.head = n1\n",
    "linkL"
   ]
  },
  {
   "cell_type": "code",
   "execution_count": 42,
   "metadata": {},
   "outputs": [
    {
     "data": {
      "text/plain": [
       "This working? -> Still working? -> None"
      ]
     },
     "execution_count": 42,
     "metadata": {},
     "output_type": "execute_result"
    }
   ],
   "source": [
    "# Add another node to the chain\n",
    "n2 = Node('Still working?')\n",
    "n1.next = n2\n",
    "linkL"
   ]
  },
  {
   "cell_type": "code",
   "execution_count": 50,
   "metadata": {},
   "outputs": [
    {
     "data": {
      "text/plain": [
       "I -> once -> programmed -> something -> that -> worked -> first -> time -> None"
      ]
     },
     "execution_count": 50,
     "metadata": {},
     "output_type": "execute_result"
    }
   ],
   "source": [
    "# Initialise with a list of strings\n",
    "data = ['I', 'once', 'programmed', 'something', 'that', 'worked', 'first', 'time']\n",
    "linkL2 = linkedList(data)\n",
    "linkL2"
   ]
  },
  {
   "cell_type": "markdown",
   "metadata": {},
   "source": [
    "### Need to be able to iterate through the list of nodes, so need an __iter__ method"
   ]
  },
  {
   "cell_type": "code",
   "execution_count": 57,
   "metadata": {},
   "outputs": [],
   "source": [
    "class linkedList:\n",
    "\n",
    "    def __init__(self, nodes=None):\n",
    "        # Note that here, the argument nodes should be a list of strings, not a list of nodes or anything like that\n",
    "\n",
    "        self.head = None  # Initialise the head as an empty slot until filled\n",
    "        if nodes is not None:\n",
    "            # If you input a list of strings (that isn't empty), then take the first one as the head node\n",
    "            node = Node(data=nodes.pop(0))  # pop(0) REMOVES the first entry and returns it, so the next for loop doesn't repeat the first entry\n",
    "            self.head = node\n",
    "            for entry in nodes:  # Walk through the list of data and take them all to be nodes and link them together\n",
    "                node.next = Node(data=entry)\n",
    "                node = node.next\n",
    "\n",
    "    # Add another method to walk through all nodes displaying their data when linkedlist is called\n",
    "    def __repr__(self):\n",
    "        node = self.head\n",
    "        nodes = []\n",
    "        while node is not None:\n",
    "            nodes.append(node.data)\n",
    "            node = node.next\n",
    "        nodes.append('None')\n",
    "        return \" -> \".join(nodes)\n",
    "\n",
    "    # Add method to enable iteration through the entries in the linked list\n",
    "    def __iter__(self):\n",
    "        node = self.head\n",
    "        while node is not None:\n",
    "            yield node\n",
    "            node = node.next"
   ]
  },
  {
   "cell_type": "code",
   "execution_count": 58,
   "metadata": {},
   "outputs": [
    {
     "name": "stdout",
     "output_type": "stream",
     "text": [
      "I\n",
      "once\n",
      "programmed\n",
      "something\n",
      "that\n",
      "worked\n",
      "first\n",
      "time\n"
     ]
    }
   ],
   "source": [
    "data = ['I', 'once', 'programmed', 'something', 'that', 'worked', 'first', 'time']\n",
    "linkL3 = linkedList(data)\n",
    "for node in linkL3:\n",
    "    print(node.data)"
   ]
  },
  {
   "cell_type": "markdown",
   "metadata": {},
   "source": [
    "### Oh no! There's a duplicate in the linked list. What do?"
   ]
  },
  {
   "cell_type": "code",
   "execution_count": 76,
   "metadata": {},
   "outputs": [
    {
     "name": "stdout",
     "output_type": "stream",
     "text": [
      "a -> b -> d -> s -> y -> e -> t -> n -> b -> u -> None\n",
      "[('b', 8)]\n",
      "['a', 'b', 'd', 's', 'y', 'e', 't', 'n', 'u']\n"
     ]
    }
   ],
   "source": [
    "# Linked list with duplicate\n",
    "dataWithDuplicate = 'a b d s y e t n b u'.split(' ')\n",
    "ll4 = linkedList(dataWithDuplicate)\n",
    "print(ll4)\n",
    "\n",
    "# Can iterate through the list, populating an array with unique elements as we go until one has appeared before?\n",
    "unique = []\n",
    "replications = []\n",
    "index = 0\n",
    "for node in ll4:\n",
    "    if node.data not in unique:\n",
    "        unique.append(node.data)\n",
    "        index += 1\n",
    "    else:\n",
    "        replications.append((node.data, index))  # Save a tuple with the duplicate and it's location in the linked list\n",
    "        index += 1\n",
    "\n",
    "print(replications)\n",
    "print(unique)"
   ]
  },
  {
   "cell_type": "code",
   "execution_count": 97,
   "metadata": {},
   "outputs": [
    {
     "name": "stdout",
     "output_type": "stream",
     "text": [
      "a -> b -> d -> s -> y -> d -> e -> t -> b -> n -> x -> u -> None\n",
      "a -> b -> d -> s -> y -> d -> e -> t -> b -> n -> x -> u -> None\n",
      "a -> b -> d -> s -> y -> d -> e -> t -> b -> n -> x -> u -> None\n",
      "a -> b -> d -> s -> y -> d -> e -> t -> b -> n -> x -> u -> None\n",
      "a -> b -> d -> s -> y -> d -> e -> t -> b -> n -> x -> u -> None\n",
      "a -> b -> d -> s -> y -> d -> e -> t -> b -> n -> x -> u -> None\n",
      "a -> b -> d -> s -> y -> d -> t -> b -> n -> x -> u -> None\n",
      "a -> b -> d -> s -> y -> d -> t -> b -> n -> x -> u -> None\n",
      "a -> b -> d -> s -> y -> d -> t -> b -> x -> u -> None\n",
      "a -> b -> d -> s -> y -> d -> t -> b -> x -> u -> None\n",
      "a -> b -> d -> s -> y -> d -> t -> b -> x -> u -> None\n"
     ]
    }
   ],
   "source": [
    "# Alternate solution to remove it in situe rather than identify it and run away\n",
    "\n",
    "dataWithDuplicate = 'a b d s y d e t b n x u'.split(' ')\n",
    "ll4 = linkedList(dataWithDuplicate)\n",
    "print(ll4)\n",
    "\n",
    "unique = []\n",
    "#for node in ll4:\n",
    "\n",
    "node = ll4.head  # Start at the top\n",
    "while node is not None:\n",
    "    if node.data not in unique:\n",
    "        unique.append(node.data)\n",
    "        node = node.next\n",
    "    else:\n",
    "        node.next = node.next.next\n",
    "        unique.append(node.data)\n",
    "        node = node.next       \n",
    "\n",
    "    print(ll4)"
   ]
  },
  {
   "cell_type": "markdown",
   "metadata": {},
   "source": [
    "### The above works well because you just respecify the pointers rather than trying to update the data value for each node."
   ]
  }
 ],
 "metadata": {
  "kernelspec": {
   "display_name": "Python 3",
   "language": "python",
   "name": "python3"
  },
  "language_info": {
   "codemirror_mode": {
    "name": "ipython",
    "version": 3
   },
   "file_extension": ".py",
   "mimetype": "text/x-python",
   "name": "python",
   "nbconvert_exporter": "python",
   "pygments_lexer": "ipython3",
   "version": "3.7.3"
  }
 },
 "nbformat": 4,
 "nbformat_minor": 4
}
