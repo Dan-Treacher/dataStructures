{
 "cells": [
  {
   "cell_type": "markdown",
   "metadata": {},
   "source": [
    "### Implementation of singly linked list from scratch"
   ]
  },
  {
   "cell_type": "code",
   "execution_count": 32,
   "metadata": {},
   "outputs": [
    {
     "data": {
      "text/plain": [
       "'This working?'"
      ]
     },
     "execution_count": 32,
     "metadata": {},
     "output_type": "execute_result"
    }
   ],
   "source": [
    "# Need a node class\n",
    "\n",
    "# Each node has some data, and also a pointer to the next node in the chain\n",
    "class Node:\n",
    "    def __init__(self, data=None):\n",
    "        if data is not None:\n",
    "            self.data = data\n",
    "        else:\n",
    "            self.data = None   \n",
    "        self.next = None\n",
    "\n",
    "n1 = Node('This working?')\n",
    "n1.data"
   ]
  },
  {
   "cell_type": "code",
   "execution_count": 41,
   "metadata": {},
   "outputs": [
    {
     "data": {
      "text/plain": [
       "This working? -> None"
      ]
     },
     "execution_count": 41,
     "metadata": {},
     "output_type": "execute_result"
    }
   ],
   "source": [
    "# Need a linked list class to put the nodes in\n",
    "\n",
    "class linkedList:\n",
    "\n",
    "    def __init__(self, nodes=None):\n",
    "        # Note that here, the argument nodes should be a list of strings, not a list of nodes or anything like that\n",
    "\n",
    "        self.head = None  # Initialise the head as an empty slot until filled\n",
    "        if nodes is not None:\n",
    "            # If you input a list of strings (that isn't empty), then take the first one as the head node\n",
    "            node = Node(data=nodes.pop(0))  # pop(0) REMOVES the first entry and returns it, so the next for loop doesn't repeat the first entry\n",
    "            self.head = node\n",
    "            for entry in nodes:  # Walk through the list of data and take them all to be nodes and link them together\n",
    "                node.next = Node(data=entry)\n",
    "                node = node.next\n",
    "\n",
    "    # Add another method to walk through all nodes displaying their data when linkedlist is called\n",
    "    def __repr__(self):\n",
    "        node = self.head\n",
    "        nodes = []\n",
    "        while node is not None:\n",
    "            nodes.append(node.data)\n",
    "            node = node.next\n",
    "        nodes.append('None')\n",
    "        return ' -> '.join(nodes)\n",
    "\n",
    "linkL = linkedList()\n",
    "linkL.head = n1\n",
    "linkL"
   ]
  },
  {
   "cell_type": "code",
   "execution_count": 42,
   "metadata": {},
   "outputs": [
    {
     "data": {
      "text/plain": [
       "This working? -> Still working? -> None"
      ]
     },
     "execution_count": 42,
     "metadata": {},
     "output_type": "execute_result"
    }
   ],
   "source": [
    "# Add another node to the chain\n",
    "n2 = Node('Still working?')\n",
    "n1.next = n2\n",
    "linkL"
   ]
  },
  {
   "cell_type": "code",
   "execution_count": 50,
   "metadata": {},
   "outputs": [
    {
     "data": {
      "text/plain": [
       "I -> once -> programmed -> something -> that -> worked -> first -> time -> None"
      ]
     },
     "execution_count": 50,
     "metadata": {},
     "output_type": "execute_result"
    }
   ],
   "source": [
    "# Initialise with a list of strings\n",
    "data = ['I', 'once', 'programmed', 'something', 'that', 'worked', 'first', 'time']\n",
    "linkL2 = linkedList(data)\n",
    "linkL2"
   ]
  },
  {
   "cell_type": "markdown",
   "metadata": {},
   "source": [
    "### Need to be able to iterate through the list of nodes, so need an __iter__ method"
   ]
  },
  {
   "cell_type": "code",
   "execution_count": 43,
   "metadata": {},
   "outputs": [],
   "source": [
    "class linkedList:\n",
    "\n",
    "    def __init__(self, nodes=None):\n",
    "        # Note that here, the argument nodes should be a list of strings, not a list of nodes or anything like that\n",
    "\n",
    "        self.head = None  # Initialise the head as an empty slot until filled\n",
    "        if nodes is not None:\n",
    "            # If you input a list of strings (that isn't empty), then take the first one as the head node\n",
    "            node = Node(data=nodes.pop(0))  # pop(0) REMOVES the first entry and returns it, so the next for loop doesn't repeat the first entry\n",
    "            self.head = node\n",
    "            for entry in nodes:  # Walk through the list of data and take them all to be nodes and link them together\n",
    "                node.next = Node(data=entry)\n",
    "                node = node.next\n",
    "\n",
    "    # Add another method to walk through all nodes displaying their data when linkedlist is called\n",
    "    def __repr__(self):\n",
    "        node = self.head\n",
    "        nodes = []\n",
    "        while node is not None:\n",
    "            nodes.append(node.data)\n",
    "            node = node.next\n",
    "        nodes.append('None')\n",
    "        if type(nodes[0]) == str:\n",
    "            return ' -> '.join(nodes)\n",
    "        else:\n",
    "            return ' -> '.join(list(map(str, nodes)))\n",
    "\n",
    "    # Add method to enable iteration through the entries in the linked list\n",
    "    def __iter__(self):\n",
    "        node = self.head\n",
    "        while node is not None:\n",
    "            yield node\n",
    "            node = node.next"
   ]
  },
  {
   "cell_type": "code",
   "execution_count": 58,
   "metadata": {},
   "outputs": [
    {
     "name": "stdout",
     "output_type": "stream",
     "text": [
      "I\n",
      "once\n",
      "programmed\n",
      "something\n",
      "that\n",
      "worked\n",
      "first\n",
      "time\n"
     ]
    }
   ],
   "source": [
    "data = ['I', 'once', 'programmed', 'something', 'that', 'worked', 'first', 'time']\n",
    "linkL3 = linkedList(data)\n",
    "for node in linkL3:\n",
    "    print(node.data)"
   ]
  },
  {
   "cell_type": "markdown",
   "metadata": {},
   "source": [
    "### Oh no! There's a duplicate in the linked list. What do?"
   ]
  },
  {
   "cell_type": "code",
   "execution_count": 76,
   "metadata": {},
   "outputs": [
    {
     "name": "stdout",
     "output_type": "stream",
     "text": [
      "a -> b -> d -> s -> y -> e -> t -> n -> b -> u -> None\n",
      "[('b', 8)]\n",
      "['a', 'b', 'd', 's', 'y', 'e', 't', 'n', 'u']\n"
     ]
    }
   ],
   "source": [
    "# Linked list with duplicate\n",
    "dataWithDuplicate = 'a b d s y e t n b u'.split(' ')\n",
    "ll4 = linkedList(dataWithDuplicate)\n",
    "print(ll4)\n",
    "\n",
    "# Can iterate through the list, populating an array with unique elements as we go until one has appeared before?\n",
    "unique = []\n",
    "replications = []\n",
    "index = 0\n",
    "for node in ll4:\n",
    "    if node.data not in unique:\n",
    "        unique.append(node.data)\n",
    "        index += 1\n",
    "    else:\n",
    "        replications.append((node.data, index))  # Save a tuple with the duplicate and it's location in the linked list\n",
    "        index += 1\n",
    "\n",
    "print(replications)\n",
    "print(unique)"
   ]
  },
  {
   "cell_type": "code",
   "execution_count": 103,
   "metadata": {},
   "outputs": [
    {
     "name": "stdout",
     "output_type": "stream",
     "text": [
      "a -> b -> d -> s -> y -> d -> e -> t -> b -> n -> x -> u -> None\n",
      "a -> b -> d -> s -> y -> d -> e -> t -> b -> n -> x -> u -> None\n",
      "a -> b -> d -> s -> y -> d -> e -> t -> b -> n -> x -> u -> None\n",
      "a -> b -> d -> s -> y -> d -> e -> t -> b -> n -> x -> u -> None\n",
      "a -> b -> d -> s -> y -> d -> e -> t -> b -> n -> x -> u -> None\n",
      "a -> b -> d -> s -> y -> d -> e -> t -> b -> n -> x -> u -> None\n",
      "a -> b -> d -> s -> y -> e -> t -> b -> n -> x -> u -> None\n",
      "a -> b -> d -> s -> y -> e -> t -> b -> n -> x -> u -> None\n",
      "a -> b -> d -> s -> y -> e -> t -> b -> n -> x -> u -> None\n",
      "a -> b -> d -> s -> y -> e -> t -> n -> x -> u -> None\n",
      "a -> b -> d -> s -> y -> e -> t -> n -> x -> u -> None\n",
      "a -> b -> d -> s -> y -> e -> t -> n -> x -> u -> None\n",
      "a -> b -> d -> s -> y -> e -> t -> n -> x -> u -> None\n"
     ]
    }
   ],
   "source": [
    "# Alternate solution to remove it in situe rather than identify it and run away\n",
    "\n",
    "dataWithDuplicate = 'a b d s y d e t b n x u'.split(' ')\n",
    "ll4 = linkedList(dataWithDuplicate)\n",
    "print(ll4)\n",
    "\n",
    "unique = []\n",
    "node = ll4.head  # Start at the top\n",
    "priorNode = None\n",
    "while node is not None:\n",
    "    if node.data not in unique:\n",
    "        unique.append(node.data)\n",
    "        priorNode = node\n",
    "        node = node.next\n",
    "    else:\n",
    "        priorNode.next = node.next\n",
    "        unique.append(node.data)\n",
    "        \n",
    "        priorNode = node\n",
    "        node = node.next       \n",
    "\n",
    "    print(ll4)"
   ]
  },
  {
   "cell_type": "markdown",
   "metadata": {},
   "source": [
    "### The above works well because you just respecify the pointers rather than trying to update the data value for each node.\n",
    "\n",
    "### Note that you need to keep track of the prior node as well as the current one in order to be able to reshuffle the pointers properly.\n",
    "\n",
    "### Oh no again! You want to find the kth to last element of the linked list? What double do?"
   ]
  },
  {
   "cell_type": "code",
   "execution_count": 110,
   "metadata": {},
   "outputs": [
    {
     "name": "stdout",
     "output_type": "stream",
     "text": [
      "a -> b -> d -> s -> y -> d -> e -> t -> b -> n -> x -> u -> None\n"
     ]
    },
    {
     "data": {
      "text/plain": [
       "'b'"
      ]
     },
     "execution_count": 110,
     "metadata": {},
     "output_type": "execute_result"
    }
   ],
   "source": [
    "# Redefine the linked list along with k, the increment from the end of the index you want to find.\n",
    "\n",
    "k = 3\n",
    "dataWithDuplicate = 'a b d s y d e t b n x u'.split(' ')\n",
    "ll5 = linkedList(dataWithDuplicate)\n",
    "print(ll5)\n",
    "\n",
    "# Might be useful to know the overall length of the list.\n",
    "# Ordinarily, to find the nth value, it O(n) because you have to traverse the list to find it.\n",
    "# Best possible solution therefore will likely be O(n) or slower.\n",
    "\n",
    "# Brute force: Record each node value in an array and then query array[length - k]\n",
    "array = []\n",
    "for node in ll5:\n",
    "    array.append(node.data)\n",
    "    node = node.next\n",
    "\n",
    "array[len(array) - (k+1)]  # There you go. This is O(n) I think."
   ]
  },
  {
   "cell_type": "code",
   "execution_count": 123,
   "metadata": {},
   "outputs": [
    {
     "name": "stdout",
     "output_type": "stream",
     "text": [
      "a -> b -> d -> s -> y -> d -> e -> t -> b -> n -> x -> u -> None\n",
      "t\n"
     ]
    }
   ],
   "source": [
    "# Solution without additional datastructure would be to run two pointers along the list iteratively. One begins and moves k \n",
    "# units into the list. Then the other one starts too. When the first pointer reaches the end, the second one will have \n",
    "# reached length-k index hence will be pointed at the correct value.\n",
    "\n",
    "k = 5\n",
    "dataWithDuplicate = 'a b d s y d e t b n x u'.split(' ')\n",
    "ll5 = linkedList(dataWithDuplicate)\n",
    "print(ll5)\n",
    "\n",
    "# Both pointers start at the beginning\n",
    "pointer1 = ll5.head\n",
    "pointer2 = ll5.head\n",
    "\n",
    "for i in range(k):\n",
    "    pointer1 = pointer1.next\n",
    "    # Now the first pointer is k indices into the list\n",
    "\n",
    "# Second pointer starts moving now such that when the first one reaches the end (pointer1 = None), the second one will be k from the end\n",
    "while pointer1 is not None:\n",
    "    pointer1 = pointer1.next\n",
    "    pointer2 = pointer2.next\n",
    "\n",
    "print(pointer2.data)"
   ]
  },
  {
   "cell_type": "markdown",
   "metadata": {},
   "source": [
    "### Oh no! You want to delete a node in the list (given only access to that node) that isn't the first or last?"
   ]
  },
  {
   "cell_type": "code",
   "execution_count": 4,
   "metadata": {},
   "outputs": [
    {
     "name": "stdout",
     "output_type": "stream",
     "text": [
      "a -> b -> c -> d -> e -> f -> g -> None\n",
      "a -> b -> c -> e -> f -> g -> None\n"
     ]
    }
   ],
   "source": [
    "data = 'a b c d e f g'.split(' ')\n",
    "ll6 = linkedList(data)\n",
    "print(ll6)\n",
    "\n",
    "nodeToBeDeleted = 'd'\n",
    "\n",
    "def deleteMidNode(linkedListInstance, nodeData):\n",
    "    priorNode = linkedListInstance.head  # Starting from the second node as we're told we won't be deleting the first one\n",
    "    currentNode = priorNode.next\n",
    "    while currentNode is not None:\n",
    "        if currentNode.data == nodeData:\n",
    "            priorNode.next = currentNode.next\n",
    "            break\n",
    "        priorNode = currentNode\n",
    "        currentNode = currentNode.next\n",
    "\n",
    "deleteMidNode(ll6, nodeToBeDeleted)\n",
    "print(ll6)\n",
    "# For the record, this worked perfectly first time having transcribed if from a pen and paper implementation.\n",
    "# Question doesn't mention duplicate nodes, but if that were the case, you'd carry a counter that increments by one each\n",
    "# time you encounter the node you want to delete, and then you snip it out when the counter has the correct number"
   ]
  },
  {
   "cell_type": "markdown",
   "metadata": {},
   "source": [
    "### Oh no! You want to partition a linked list so all values less than said partition are moved to the left of that value, and all elements larger are moved to the right?"
   ]
  },
  {
   "cell_type": "code",
   "execution_count": 57,
   "metadata": {},
   "outputs": [
    {
     "name": "stdout",
     "output_type": "stream",
     "text": [
      "1 -> 10 -> 3 -> 15 -> 4 -> 6 -> 8 -> 20 -> None\n",
      "1 -> 3 -> 4 -> None -> 10 -> 15 -> 6 -> 8 -> 20 -> None -> None\n"
     ]
    }
   ],
   "source": [
    "ll7 = linkedList([1, 10, 3, 15, 4, 6, 8, 20])\n",
    "ll7\n",
    "partition = 6\n",
    "# So the output should be 1 -> 3 -> 4 -> 6 -> 8 -> 20 -> 10 -> 15 or something\n",
    "\n",
    "# trivial solution is to walk through and record all the nodes into a list, sort the list and then return a new linked list.\n",
    "def trivialSolution(lL):  # Doesn't even matter what the partition value is\n",
    "    priorNode = None\n",
    "    currentNode = lL.head\n",
    "    data = []\n",
    "    while currentNode is not None:\n",
    "        data.append(currentNode.data)\n",
    "        priorNode = currentNode\n",
    "        currentNode = currentNode.next\n",
    "    sortedData = sorted(data)\n",
    "    output = linkedList(sortedData)\n",
    "    return output\n",
    "\n",
    "#out = trivialSolution(ll7)\n",
    "#out\n",
    "\n",
    "# Alternate solution without using an array involves defining two separate linked lists, one for the numbers less than the\n",
    "# partition, and one for the numbers larger than the partition. Loop through the original list and add the numbers to the \n",
    "# appropriate list after comparison with the partition. End by merging the two lists\n",
    "def partitionLinkedList(linkedL, partition):\n",
    "    before = linkedList()\n",
    "    before.head = Node()\n",
    "    beforeNode = before.head\n",
    "    \n",
    "    after = linkedList()\n",
    "    after.head = Node()\n",
    "    afterNode = after.head\n",
    "    \n",
    "    node = linkedL.head\n",
    "    while node is not None:\n",
    "        if node.data < partition:\n",
    "            beforeNode.data = node.data\n",
    "            beforeNode.next = Node()\n",
    "            beforeNode = beforeNode.next\n",
    "        else:\n",
    "            afterNode.data = node.data\n",
    "            afterNode.next = Node()\n",
    "            afterNode = afterNode.next\n",
    "        node = node.next\n",
    "    \n",
    "    beforeNode.next = after.head\n",
    "    return before\n",
    "\n",
    "print(ll7)\n",
    "ll7_part = partitionLinkedList(ll7, 6)\n",
    "print(ll7_part)"
   ]
  }
 ],
 "metadata": {
  "kernelspec": {
   "display_name": "Python 3",
   "language": "python",
   "name": "python3"
  },
  "language_info": {
   "codemirror_mode": {
    "name": "ipython",
    "version": 3
   },
   "file_extension": ".py",
   "mimetype": "text/x-python",
   "name": "python",
   "nbconvert_exporter": "python",
   "pygments_lexer": "ipython3",
   "version": "3.7.3"
  }
 },
 "nbformat": 4,
 "nbformat_minor": 4
}
