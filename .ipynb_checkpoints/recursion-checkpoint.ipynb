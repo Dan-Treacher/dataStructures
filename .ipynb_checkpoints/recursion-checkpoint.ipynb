{
 "cells": [
  {
   "cell_type": "markdown",
   "metadata": {},
   "source": [
    "### A few examples of writing functions recursively along with a dynamic programming approach"
   ]
  },
  {
   "cell_type": "code",
   "execution_count": 33,
   "metadata": {},
   "outputs": [
    {
     "name": "stdout",
     "output_type": "stream",
     "text": [
      "8\n"
     ]
    }
   ],
   "source": [
    "# Function to comput the nth fibonacci number\n",
    "def fibonacci(n):\n",
    "    if n == 0:\n",
    "        return 0\n",
    "    elif n == 1:\n",
    "        return 1\n",
    "    else:\n",
    "        return fibonacci(n-1) + fibonacci(n-2)\n",
    "\n",
    "# This works and has O(2^n) runtime (dictated by the number of calls made)\n",
    "print(fibonacci(6))"
   ]
  },
  {
   "cell_type": "code",
   "execution_count": 24,
   "metadata": {},
   "outputs": [],
   "source": [
    "# Dynamic programming involves recording a cache of simpler results that can be used to solve more complex calls.\n",
    "def dp_fibonacci(n):\n",
    "    cache = [0, 1]\n",
    "    \n",
    "    if n <= len(cache):\n",
    "        return cache[n]\n",
    "    \n",
    "    for i in range(2, n+1):\n",
    "        cache.append(cache[i-2] + cache[i-1])\n",
    "    return cache[-1]"
   ]
  },
  {
   "cell_type": "code",
   "execution_count": 31,
   "metadata": {},
   "outputs": [
    {
     "name": "stdout",
     "output_type": "stream",
     "text": [
      "8\n",
      "14909059039666631258104\n"
     ]
    }
   ],
   "source": [
    "# This has a runtime of O(n) so can calculate much larger values than the recursive approach\n",
    "print(dp_fibonacci(6))\n",
    "print(dp_fibonacci(6000))  # Recursive function for n=600 crashes my computer. Dynamic method finds the 6,000th one in a fraction of a second"
   ]
  },
  {
   "cell_type": "markdown",
   "metadata": {},
   "source": [
    "### Oh no! A child is running up n stairs and can take steps of either 1, 2 or 3. Calculate the number of possible ways the child can run up the stairs."
   ]
  },
  {
   "cell_type": "code",
   "execution_count": 52,
   "metadata": {},
   "outputs": [
    {
     "name": "stdout",
     "output_type": "stream",
     "text": [
      "7\n"
     ]
    }
   ],
   "source": [
    "# If n=1, then the number of ways is 1\n",
    "# If n=2, then the number of ways is 2: (1+1 steps, 2 steps)\n",
    "# If n=3, then the number of ways is 4(?): (1+1+1, 1+2, 2+1, 3) Will we take 1+2 = 2+1?\n",
    "\n",
    "# If n=n+1 then the number of ways is the same as n steps + some extra amount corresponding to the last added step. This last\n",
    "# step can be reached either with an additional step of size 1 from the nth configuration, additional steps of size (2, 1+1)\n",
    "# from the n-2th configuration or additional steps of size (1+1+1, 1+2, 2+1, 3) from the n-3th configuation\n",
    "\n",
    "# e.g. x[9] different ways of getting up the steps if n=9. If n=10, you have (x[9]+1) + (x[8]+2) + (x[7]+3)\n",
    "# We know that x[0]=1, x[1]=1, x[2]=2, x[3]=4\n",
    "\n",
    "def numberOfWays(n):\n",
    "    cache = [1, 1, 2, 4]  # Initialise the base cases of there being 0, 1, 2 or 3 steps\n",
    "    if n <= len(cache)-1:\n",
    "        return cache[n]  # nth entry in the cache is the number of ways of getting up n stairs\n",
    "    else:\n",
    "        for n in range(4, n+1):\n",
    "            #cache.append((cache[n-1]+1) + (cache[n-2]+2) + (cache[n-3]+4))\n",
    "            cache.append(cache[n-1] + cache[n-2] + cache[n-3])\n",
    "        return cache[-1]\n",
    "\n",
    "print(numberOfWays(4))  # numberOfWays(10) = 274. Seems to work."
   ]
  }
 ],
 "metadata": {
  "kernelspec": {
   "display_name": "Python 3",
   "language": "python",
   "name": "python3"
  },
  "language_info": {
   "codemirror_mode": {
    "name": "ipython",
    "version": 3
   },
   "file_extension": ".py",
   "mimetype": "text/x-python",
   "name": "python",
   "nbconvert_exporter": "python",
   "pygments_lexer": "ipython3",
   "version": "3.7.3"
  }
 },
 "nbformat": 4,
 "nbformat_minor": 4
}
