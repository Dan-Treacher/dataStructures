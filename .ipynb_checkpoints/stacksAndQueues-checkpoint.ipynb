{
 "cells": [
  {
   "cell_type": "markdown",
   "metadata": {},
   "source": [
    "### Common use of a stack is to check bracket matching\n",
    "\n",
    "### E.g. does (([{()}])) match? If so, return true"
   ]
  },
  {
   "cell_type": "code",
   "execution_count": 21,
   "metadata": {},
   "outputs": [
    {
     "name": "stdout",
     "output_type": "stream",
     "text": [
      "Brackets in string (([{()}])) dont match\n",
      "Brackets in string (([{()}])) dont match\n",
      "Brackets in string (([{()}])) dont match\n",
      "Brackets in string (([{()}])) dont match\n",
      "Brackets in string (([{()}])) dont match\n",
      "Brackets in string (([{()}])) dont match\n",
      "Brackets in string (([{()}])) dont match\n",
      "Brackets in string (([{()}])) dont match\n",
      "Brackets in string (([{()}])) dont match\n",
      "Brackets in string (([{()}])) match\n"
     ]
    }
   ],
   "source": [
    "stack = ''\n",
    "inputString = '(([{()}]))'\n",
    "\n",
    "# Traverse the input string adding each of the opening brackets as you go\n",
    "for char in inputString:\n",
    "    if char in '({[':  # Opening brackets\n",
    "        stack += char\n",
    "    else:  # If the bracket is a closing bracket\n",
    "        if (char == ')') & (stack[-1] == '('):\n",
    "            stack = stack[:-1]  # If the closing bracket matches the most recent bracket, remove it and carry on\n",
    "        elif (char == '}') & (stack[-1] == '{'):\n",
    "            stack = stack[:-1]\n",
    "        elif (char == ']') & (stack[-1] == '['):\n",
    "            stack = stack[:-1]\n",
    "        else:\n",
    "            continue\n",
    "    if stack == '':\n",
    "        print('Brackets in string ' + inputString + ' match')\n",
    "    else:\n",
    "        print('Brackets in string ' + inputString + ' don''t match')"
   ]
  },
  {
   "cell_type": "markdown",
   "metadata": {},
   "source": [
    "### Above works, but isn't really a stack, it's just string manipulation. Shall try and write a class for a stack that implements the classic stack methods"
   ]
  },
  {
   "cell_type": "code",
   "execution_count": 3,
   "metadata": {},
   "outputs": [
    {
     "name": "stdout",
     "output_type": "stream",
     "text": [
      "(123\n",
      "(12   3\n",
      "(   12\n"
     ]
    }
   ],
   "source": [
    "class Stack():\n",
    "    \n",
    "    def __init__(self, data=None):\n",
    "        self.data = ''\n",
    "        if data is not None:  # Just in case you want to start with a load of characters already in the stack\n",
    "            for char in data:\n",
    "                self.push(char)\n",
    "    \n",
    "    def peek(self):\n",
    "        return self.data[-1]\n",
    "    \n",
    "    # Pop is only supposed to return the first (position = 0) or final positions in the stack (position = None)\n",
    "    def pop(self, position=None):\n",
    "        if position == 0:\n",
    "            temp = self.data[0]\n",
    "            self.data = self.data[1:]  # So you return the popped bit, changing the stack inplace\n",
    "            return temp\n",
    "        else:\n",
    "            temp = self.data[-1]\n",
    "            self.data = self.data[:-1]\n",
    "            return temp\n",
    "    \n",
    "    # Adding is FILO\n",
    "    def push(self, newData):\n",
    "        self.data = self.data + newData\n",
    "    \n",
    "    # Just so it prints nicely\n",
    "    def __repr__(self):\n",
    "        return self.data\n",
    "\n",
    "s = Stack()\n",
    "s.push('(')\n",
    "s.push('123')\n",
    "print(s)\n",
    "finalChar = s.pop()\n",
    "print(s, ' ', finalChar)\n",
    "firstChar = s.pop(0)\n",
    "print(firstChar, ' ', s)\n",
    "\n",
    "# Yeah, this stack class workes as expected"
   ]
  },
  {
   "cell_type": "markdown",
   "metadata": {},
   "source": [
    "### Now you have a bespoke stack class that should give a more natural function to checking bracket resolution"
   ]
  },
  {
   "cell_type": "code",
   "execution_count": 4,
   "metadata": {},
   "outputs": [],
   "source": [
    "# Put it in a little function\n",
    "def checkBracketMatching(inStr):\n",
    "\n",
    "    bracketsMatch = True\n",
    "    stack = Stack()\n",
    "\n",
    "    if (bracketsMatch == True) & (stack != ''):\n",
    "\n",
    "        for char in inStr:\n",
    "\n",
    "            if char in '({[':  # If the bracket is one of the opening ones\n",
    "                stack.push(char)\n",
    "\n",
    "            else:  # Now the bracket is a closing bracket\n",
    "                if (char == ')') & (stack.peek() != '('):  # Mismatch\n",
    "                    bracketsMatch = False\n",
    "                    break\n",
    "                elif (char == '}') & (stack.peek() != '{'):  # Mismatch\n",
    "                    bracketsMatch = False\n",
    "                    break\n",
    "                elif (char == ']') & (stack.peek() != '['):  # Mismatch\n",
    "                    bracketsMatch = False\n",
    "                    break\n",
    "                else:  # Match, so remove the last opening bracket from the stack and continue\n",
    "                    stack.pop()\n",
    "\n",
    "    return bracketsMatch"
   ]
  },
  {
   "cell_type": "code",
   "execution_count": 5,
   "metadata": {},
   "outputs": [
    {
     "name": "stdout",
     "output_type": "stream",
     "text": [
      "True\n",
      "False\n"
     ]
    }
   ],
   "source": [
    "# A few test cases\n",
    "inputString = '(({[{{()}}]}))'\n",
    "print(checkBracketMatching(inputString))\n",
    "\n",
    "inputString2 = '(([{{()}}]}))'\n",
    "print(checkBracketMatching(inputString2))\n",
    "# Nice"
   ]
  }
 ],
 "metadata": {
  "kernelspec": {
   "display_name": "Python 3",
   "language": "python",
   "name": "python3"
  },
  "language_info": {
   "codemirror_mode": {
    "name": "ipython",
    "version": 3
   },
   "file_extension": ".py",
   "mimetype": "text/x-python",
   "name": "python",
   "nbconvert_exporter": "python",
   "pygments_lexer": "ipython3",
   "version": "3.7.3"
  }
 },
 "nbformat": 4,
 "nbformat_minor": 4
}
