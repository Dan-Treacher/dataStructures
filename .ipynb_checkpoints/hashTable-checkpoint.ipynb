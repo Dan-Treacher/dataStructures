{
 "cells": [
  {
   "cell_type": "markdown",
   "metadata": {},
   "source": [
    "### Example of a hash table for strings"
   ]
  },
  {
   "cell_type": "code",
   "execution_count": 37,
   "metadata": {},
   "outputs": [],
   "source": [
    "data = ['Tom', 'Nick', 'Barry', 'Barrold', 'Barrold the great', 'Barrold the wise']\n",
    "# ord() converts character argument into ASCII; chr() converts ASCII back into a character\n",
    "\n",
    "# Pre-allocate the hash table\n",
    "hashTable = ['']*len(data)"
   ]
  },
  {
   "cell_type": "code",
   "execution_count": 38,
   "metadata": {},
   "outputs": [
    {
     "name": "stdout",
     "output_type": "stream",
     "text": [
      "Tom 304 4\n",
      "Nick 389 5\n",
      "Barry 512 2\n",
      "Barrold 710 2\n",
      "Barrold the great 1626 0\n",
      "Barrold the wise 1535 5\n",
      "['Barrold the great', '', 'Barrold', '', 'Tom', 'Barrold the wise']\n"
     ]
    }
   ],
   "source": [
    "# Looks like this loop has complexity of order O(d*s) for data array of length d and string length of s\n",
    "for name in data:\n",
    "    \n",
    "    # Loop over the characters in the name and sum up their ascii codes (This is the hashing function)\n",
    "    asciiSum = 0\n",
    "    for char in name:\n",
    "        asciiSum += ord(char)\n",
    "    hashLocation = asciiSum % len(data)  # Take remainder after int division of ascii sum with length of array\n",
    "\n",
    "    # Put the data in the appropriate place\n",
    "    print(name, asciiSum, hashLocation)\n",
    "    hashTable[hashLocation] = name\n",
    "    \n",
    "print(hashTable)"
   ]
  },
  {
   "cell_type": "markdown",
   "metadata": {},
   "source": [
    "### Looks like there have been some collisions here as a result of duplicate hash function outputs\n",
    "\n",
    "### Common fixes include open and closed addressing - open addressing involves shifting the data to the next open space, closed addressing involves appending the data to a linked list in the original hashLocation\n",
    "\n",
    "\n",
    "\n",
    "### Open addressing"
   ]
  },
  {
   "cell_type": "code",
   "execution_count": 61,
   "metadata": {},
   "outputs": [
    {
     "name": "stdout",
     "output_type": "stream",
     "text": [
      "Tom 304\n",
      "Open addressing hash location: 4\n",
      "Nick 389\n",
      "Open addressing hash location: 5\n",
      "Barry 512\n",
      "Open addressing hash location: 2\n",
      "Barrold 710\n",
      "Open addressing hash location: 3\n",
      "Barrold the great 1626\n",
      "Open addressing hash location: 0\n",
      "Barrold the wise 1535\n",
      "Open addressing hash location: 1\n",
      "['Barrold the great', 'Barrold the wise', 'Barry', 'Barrold', 'Tom', 'Nick']\n"
     ]
    }
   ],
   "source": [
    "hashTable = [None]*len(data)\n",
    "\n",
    "for name in data:\n",
    "    \n",
    "    # Loop over the characters in the name and sum up their ascii codes (This is the hashing function)\n",
    "    asciiSum = 0\n",
    "    for char in name:\n",
    "        asciiSum += ord(char)\n",
    "    hashLocation = asciiSum % len(data)  # Take remainder after int division of ascii sum with length of array\n",
    "    print(name, asciiSum)\n",
    "    \n",
    "    # If the desired location is empty, put the data there\n",
    "    if hashTable[hashLocation] == None:\n",
    "        hashTable[hashLocation] = name\n",
    "        print('Open addressing hash location: {:}'.format(hashLocation))\n",
    "    else:\n",
    "        locationOccupied = True  # Otherwise, assume the location is occupied and do a linear probe of the susequent locations\n",
    "        while locationOccupied:\n",
    "            hashLocation += 1  # Increment the query location by one            \n",
    "            if hashTable[hashLocation%len(hashTable)] == None:  # % so you wrap around and try to fill it up from the beginning\n",
    "                locationOccupied = False\n",
    "                hashTable[hashLocation%len(hashTable)] = name\n",
    "                print('Open addressing hash location: {:}'.format(hashLocation%len(hashTable)))\n",
    "    \n",
    "print(hashTable)"
   ]
  },
  {
   "cell_type": "markdown",
   "metadata": {},
   "source": [
    "### Now the hash table is fully occupied without overwrites because of the open addressing implemented above.\n",
    "\n",
    "### Basic premise is to check whether a location is occupied, and if it is, increment the desination location by one repeatedly until you find a place that's empty. We wrap around to the front of the table rather than append new entries to the end as we know the table and data array should be the same size\n",
    "\n",
    "\n",
    "\n",
    "### Need to be able to recover data from the hash table as well as put it in there..."
   ]
  },
  {
   "cell_type": "code",
   "execution_count": 68,
   "metadata": {},
   "outputs": [
    {
     "name": "stdout",
     "output_type": "stream",
     "text": [
      "2\n",
      "Oh no! looks like a collision in the hashLocation, so the target must have been shifted to a different index.\n",
      "Found it at location 3: searching for Barrold, got Barrold\n",
      "['Barrold the great', 'Barrold the wise', 'Barry', 'Barrold', 'Tom', 'Nick']\n"
     ]
    }
   ],
   "source": [
    "# First turn the hash key creation into a little function\n",
    "\n",
    "def hashLocationGenerator(data, arrayLength):\n",
    "    asciiSum = 0\n",
    "    for character in data:\n",
    "        asciiSum += ord(character)\n",
    "    \n",
    "    return asciiSum % arrayLength\n",
    "\n",
    "\n",
    "searchQuery = 'Barrold'\n",
    "print(hashLocationGenerator(searchQuery, len(hashTable)))\n",
    "# So neglecting collisions, 'Barry' should be stored in index 2 of the hash table.\n",
    "\n",
    "# Worst case scenario for open indexing is O(N) where you have to do a linear search of every address to find the right entry\n",
    "if hashTable[hashLocationGenerator(searchQuery, len(hashTable))] is not searchQuery:\n",
    "    print('Oh no! looks like a collision in the hashLocation, so the target must have been shifted to a different index.')\n",
    "\n",
    "    # Linear search starting from the suggested hashLocation to try and find the correct entry\n",
    "    startingLocation = hashLocationGenerator(searchQuery, len(hashTable))\n",
    "    newLocation = startingLocation + 1\n",
    "    lookingForQuery = True\n",
    "    while lookingForQuery:\n",
    "        if hashTable[newLocation%len(hashTable)] == searchQuery:\n",
    "            lookingForQuery = False\n",
    "            print('Found it at location {}: searching for {}, got {}'.format(newLocation, searchQuery, hashTable[newLocation%len(hashTable)]))\n",
    "        else:\n",
    "            newLocation += 1\n",
    "\n",
    "print(hashTable)"
   ]
  },
  {
   "cell_type": "markdown",
   "metadata": {},
   "source": [
    "### Oh no! Open addressing is weird and you don't want to do it? Do closed addressing instead with a linked list at each hash table location"
   ]
  },
  {
   "cell_type": "code",
   "execution_count": 33,
   "metadata": {},
   "outputs": [],
   "source": [
    "# Define hash function\n",
    "def hashLocationGenerator(data, arrayLength):\n",
    "    asciiSum = 0\n",
    "    for character in data:\n",
    "        asciiSum += ord(character)\n",
    "    \n",
    "    return asciiSum % arrayLength\n",
    "\n",
    "\n",
    "# Define node as constituent of linked list class\n",
    "class Node():\n",
    "    def __init__(self, data):\n",
    "        self.data = data\n",
    "        self.next = None\n",
    "\n",
    "\n",
    "# Define (singly) linked list wrapper class\n",
    "class linkedList():\n",
    "    \n",
    "    # Assuming data is a list of strings or something\n",
    "    def __init__(self, data=None):\n",
    "        self.head = None  # Initialise the first point in the list\n",
    "        if data is not None:\n",
    "            node = Node(data.pop(0))  # Take the first element of the list\n",
    "            self.head = node\n",
    "            for element in data:  # Walk through the remaining entries in data and load them all in as new nodes in the list\n",
    "                node.next = Node(element)\n",
    "                node = node.next\n",
    "                \n",
    "    # Need a method to add a node to the linked list\n",
    "    def add(self, data):\n",
    "        node = self.head\n",
    "        priorNode = None\n",
    "        while node is not None:  # This will walk to the end of the list in O(n) time\n",
    "            priorNode = node  # Need a reference to the prior node so that you can still point at something when you're at the end\n",
    "            node = node.next\n",
    "        priorNode.next = Node(data)  # Now adjust the final pointer to point to a new node instead of just default None\n",
    "\n",
    "    # Method to print the list nicely when it's called\n",
    "    def __repr__(self):\n",
    "        node = self.head\n",
    "        nodes = []\n",
    "        while node is not None:\n",
    "            nodes.append(node.data)\n",
    "            node = node.next\n",
    "        nodes.append('None')\n",
    "        return ' -> '.join(nodes)"
   ]
  },
  {
   "cell_type": "code",
   "execution_count": 35,
   "metadata": {},
   "outputs": [
    {
     "name": "stdout",
     "output_type": "stream",
     "text": [
      "one -> two -> three -> None\n",
      "one -> two -> three -> four -> None\n"
     ]
    }
   ],
   "source": [
    "test = ['one', 'two', 'three']\n",
    "ll1 = linkedList(test)\n",
    "print(ll1)\n",
    "\n",
    "ll1.add('four')\n",
    "print(ll1)  # Yeah, this works so you can now add new nodes to the end of an existing list with this method"
   ]
  },
  {
   "cell_type": "markdown",
   "metadata": {},
   "source": [
    "### Now we've got the necessary classes to make the hash table with closed addressing."
   ]
  },
  {
   "cell_type": "code",
   "execution_count": 40,
   "metadata": {},
   "outputs": [
    {
     "name": "stdout",
     "output_type": "stream",
     "text": [
      "Tom 4\n",
      "Nick 5\n",
      "Barry 2\n",
      "Barrold 2\n",
      "Barrold the great 0\n",
      "Barrold the wise 5\n"
     ]
    },
    {
     "data": {
      "text/plain": [
       "[Barrold the great -> None,\n",
       " None,\n",
       " Barry -> Barrold -> None,\n",
       " None,\n",
       " Tom -> None,\n",
       " Nick -> Barrold the wise -> None]"
      ]
     },
     "execution_count": 40,
     "metadata": {},
     "output_type": "execute_result"
    }
   ],
   "source": [
    "data = ['Tom', 'Nick', 'Barry', 'Barrold', 'Barrold the great', 'Barrold the wise']\n",
    "hashTable = [None]*len(data)\n",
    "\n",
    "for name in data:\n",
    "    # Calculate the location in the hash table\n",
    "    hashLocation = hashLocationGenerator(name, len(hashTable))\n",
    "    print(name, hashLocation)\n",
    "    \n",
    "    if hashTable[hashLocation] is None:\n",
    "        hashTable[hashLocation] = linkedList([name])  # Now the entry in the hashtable is a signly linked list\n",
    "    else:  # If the space is already occupied\n",
    "        hashTable[hashLocation].add(name)\n",
    "\n",
    "hashTable\n",
    "# So that worked way better than I though it would"
   ]
  }
 ],
 "metadata": {
  "kernelspec": {
   "display_name": "Python 3",
   "language": "python",
   "name": "python3"
  },
  "language_info": {
   "codemirror_mode": {
    "name": "ipython",
    "version": 3
   },
   "file_extension": ".py",
   "mimetype": "text/x-python",
   "name": "python",
   "nbconvert_exporter": "python",
   "pygments_lexer": "ipython3",
   "version": "3.7.3"
  }
 },
 "nbformat": 4,
 "nbformat_minor": 4
}
