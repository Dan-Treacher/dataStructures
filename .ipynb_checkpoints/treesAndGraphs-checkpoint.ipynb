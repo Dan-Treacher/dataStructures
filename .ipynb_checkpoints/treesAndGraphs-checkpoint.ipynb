{
 "cells": [
  {
   "cell_type": "markdown",
   "metadata": {},
   "source": [
    "### Trees and graphs\n",
    "\n",
    "### So the basic binary tree comes in a few variants:\n",
    "##### Binary search tree: A tree where each node to the left of the root is smaller, and each to the right of the root is larger. Each child node on the left is smaller than the parent and each child on the right is larger than the parent\n",
    "    \n",
    "##### Complete binary tree: A tree where each layer is fully occupied, having been filled from left to right. Ordering of node contents irrelevant\n",
    "\n",
    "##### Full binary tree: A tree where each node has either zero or two children\n",
    "\n",
    "##### Perfect binary tree: A binary tree that's both full and complete"
   ]
  },
  {
   "cell_type": "code",
   "execution_count": 36,
   "metadata": {},
   "outputs": [
    {
     "name": "stdout",
     "output_type": "stream",
     "text": [
      "123\n",
      "50\n"
     ]
    }
   ],
   "source": [
    "# Need to make a node class that will act as the constituents of the tree\n",
    "class Node:\n",
    "    def __init__(self, data=None):\n",
    "        self.data = data\n",
    "        self.leftChild = None\n",
    "        self.rightChild = None\n",
    "\n",
    "\n",
    "# Need a tree class that will wrap the nodes\n",
    "class Tree:\n",
    "    def __init__(self, data=None):\n",
    "        self.root = None\n",
    "    \n",
    "    def insert(self, data):\n",
    "        if self.root is None:\n",
    "            self.root = Node(data)\n",
    "        else:\n",
    "            self._insert(data, self.root)\n",
    "    \n",
    "    def _insert(self, data, node):  # Insert some data at a particular node\n",
    "        if data < node.data:\n",
    "            if node.leftChild is not None:  # If there's already a leaf there\n",
    "                self._insert(data, node.leftChild)\n",
    "            else:\n",
    "                node.leftChild = Node(data)\n",
    "        else:\n",
    "            if node.rightChild is not None:\n",
    "                self._insert(data, node.rightChild)\n",
    "            else:\n",
    "                node.rightChild = Node(data)\n",
    "\n",
    "\n",
    "t = Tree()\n",
    "t.insert(123)\n",
    "t.insert(50)\n",
    "t.insert(25)\n",
    "print(t.root.data)\n",
    "print(t.root.leftChild.data)\n"
   ]
  },
  {
   "cell_type": "markdown",
   "metadata": {},
   "source": [
    "### Useful to recursively insert values into the tree so you don't have to keep track of layers of inserted nodes"
   ]
  }
 ],
 "metadata": {
  "kernelspec": {
   "display_name": "Python 3",
   "language": "python",
   "name": "python3"
  },
  "language_info": {
   "codemirror_mode": {
    "name": "ipython",
    "version": 3
   },
   "file_extension": ".py",
   "mimetype": "text/x-python",
   "name": "python",
   "nbconvert_exporter": "python",
   "pygments_lexer": "ipython3",
   "version": "3.7.3"
  }
 },
 "nbformat": 4,
 "nbformat_minor": 4
}
