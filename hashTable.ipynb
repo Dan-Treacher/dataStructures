{
 "cells": [
  {
   "cell_type": "markdown",
   "metadata": {},
   "source": [
    "### Example of a hash table for strings"
   ]
  },
  {
   "cell_type": "code",
   "execution_count": 1,
   "metadata": {},
   "outputs": [],
   "source": [
    "import numpy as np"
   ]
  },
  {
   "cell_type": "code",
   "execution_count": 37,
   "metadata": {},
   "outputs": [],
   "source": [
    "data = ['Tom', 'Nick', 'Barry', 'Barrold', 'Barrold the great', 'Barrold the wise']\n",
    "# ord() converts character argument into ASCII; chr() converts ASCII back into a character\n",
    "\n",
    "# Pre-allocate the hash table\n",
    "hashTable = ['']*len(data)"
   ]
  },
  {
   "cell_type": "code",
   "execution_count": 38,
   "metadata": {},
   "outputs": [
    {
     "name": "stdout",
     "output_type": "stream",
     "text": [
      "Tom 304 4\n",
      "Nick 389 5\n",
      "Barry 512 2\n",
      "Barrold 710 2\n",
      "Barrold the great 1626 0\n",
      "Barrold the wise 1535 5\n",
      "['Barrold the great', '', 'Barrold', '', 'Tom', 'Barrold the wise']\n"
     ]
    }
   ],
   "source": [
    "# Looks like this loop has complexity of order O(d*s) for data array of length d and string length of s\n",
    "for name in data:\n",
    "    \n",
    "    # Loop over the characters in the name and sum up their ascii codes (This is the hashing function)\n",
    "    asciiSum = 0\n",
    "    for char in name:\n",
    "        asciiSum += ord(char)\n",
    "    hashLocation = asciiSum % len(data)  # Take remainder after int division of ascii sum with length of array\n",
    "\n",
    "    # Put the data in the appropriate place\n",
    "    print(name, asciiSum, hashLocation)\n",
    "    hashTable[hashLocation] = name\n",
    "    \n",
    "print(hashTable)"
   ]
  },
  {
   "cell_type": "markdown",
   "metadata": {},
   "source": [
    "### Looks like there have been some collisions here as a result of duplicate hash function outputs\n",
    "\n",
    "### Common fixes include open and closed addressing - open addressing involves shifting the data to the next open space, closed addressing involves appending the data to a linked list in the original hashLocation\n",
    "\n",
    "### Open addressing"
   ]
  },
  {
   "cell_type": "code",
   "execution_count": 35,
   "metadata": {},
   "outputs": [
    {
     "name": "stdout",
     "output_type": "stream",
     "text": [
      "Tom 304\n",
      "Open addressing hash location: 4\n",
      "Nick 389\n",
      "Open addressing hash location: 5\n",
      "Barry 512\n",
      "Open addressing hash location: 2\n",
      "Barrold 710\n",
      "Open addressing hash location: 3\n",
      "Barrold the great 1626\n",
      "Open addressing hash location: 0\n",
      "Barrold the wise 1535\n",
      "Open addressing hash location: 1\n",
      "['Barrold the great', 'Barrold the wise', 'Barry', 'Barrold', 'Tom', 'Nick']\n"
     ]
    }
   ],
   "source": [
    "hashTable = [None]*len(data)\n",
    "\n",
    "for name in data:\n",
    "    \n",
    "    # Loop over the characters in the name and sum up their ascii codes (This is the hashing function)\n",
    "    asciiSum = 0\n",
    "    for char in name:\n",
    "        asciiSum += ord(char)\n",
    "    hashLocation = asciiSum % len(data)  # Take remainder after int division of ascii sum with length of array\n",
    "    print(name, asciiSum)\n",
    "    \n",
    "    # If the desired location is empty, put the data there\n",
    "    if hashTable[hashLocation] == None:\n",
    "        hashTable[hashLocation] = name\n",
    "        print('Open addressing hash location: {:}'.format(hashLocation))\n",
    "    else:\n",
    "        locationOccupied = True  # Otherwise, assume the location is occupied and do a linear probe of the susequent locations\n",
    "        while locationOccupied:\n",
    "            hashLocation += 1  # Increment the query location by one            \n",
    "            if hashTable[hashLocation%len(hashTable)] == None:  # % so you wrap around and try to fill it up from the beginning\n",
    "                locationOccupied = False\n",
    "                hashTable[hashLocation%len(hashTable)] = name\n",
    "                print('Open addressing hash location: {:}'.format(hashLocation%len(hashTable)))\n",
    "    \n",
    "print(hashTable)"
   ]
  },
  {
   "cell_type": "markdown",
   "metadata": {},
   "source": [
    "### Now the hash table is fully occupied without overwrites because of the open addressing implemented above.\n",
    "\n",
    "### Basic premise is to check whether a location is occupied, and if it is, increment the desination location by one repeatedly until you find a place that's empty. We wrap around to the front of the table rather than append new entries to the end as we know the table and data array should be the same size"
   ]
  }
 ],
 "metadata": {
  "kernelspec": {
   "display_name": "Python 3",
   "language": "python",
   "name": "python3"
  },
  "language_info": {
   "codemirror_mode": {
    "name": "ipython",
    "version": 3
   },
   "file_extension": ".py",
   "mimetype": "text/x-python",
   "name": "python",
   "nbconvert_exporter": "python",
   "pygments_lexer": "ipython3",
   "version": "3.7.3"
  }
 },
 "nbformat": 4,
 "nbformat_minor": 4
}
