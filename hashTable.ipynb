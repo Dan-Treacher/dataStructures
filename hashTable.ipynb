{
 "cells": [
  {
   "cell_type": "markdown",
   "metadata": {},
   "source": [
    "### Example of a hash table for strings"
   ]
  },
  {
   "cell_type": "code",
   "execution_count": 1,
   "metadata": {},
   "outputs": [],
   "source": [
    "import numpy as np"
   ]
  },
  {
   "cell_type": "code",
   "execution_count": 6,
   "metadata": {},
   "outputs": [],
   "source": [
    "data = ['Tom', 'Nick', 'Barry', 'Barrold', 'Barrold the great', 'Barrold the wise']\n",
    "# ord() converts character argument into ASCII; chr() converts ASCII back into a character\n",
    "\n",
    "# Pre-allocate the hash table\n",
    "hashTable = ['']*len(data)"
   ]
  },
  {
   "cell_type": "code",
   "execution_count": 7,
   "metadata": {},
   "outputs": [
    {
     "name": "stdout",
     "output_type": "stream",
     "text": [
      "Tom 304 4\n",
      "Nick 389 5\n",
      "Barry 512 2\n",
      "Barrold 710 2\n",
      "Barrold the great 1626 0\n",
      "Barrold the wise 1535 5\n",
      "['Barrold the great', '', 'Barrold', '', 'Tom', 'Barrold the wise']\n"
     ]
    }
   ],
   "source": [
    "# Looks like this loop has complexity of order O(d*s) for data array of length d and string length of s\n",
    "for name in data:\n",
    "    \n",
    "    # Loop over the characters in the name and sum up their ascii codes (This is the hashing function)\n",
    "    asciiSum = 0\n",
    "    for char in name:\n",
    "        asciiSum += ord(char)\n",
    "    hashLocation = asciiSum % len(data)  # Take remainder after int division of ascii sum with length of array\n",
    "\n",
    "    # Put the data in the appropriate place\n",
    "    print(name, asciiSum, hashLocation)\n",
    "    hashTable[hashLocation] = name\n",
    "    \n",
    "print(hashTable)"
   ]
  },
  {
   "cell_type": "markdown",
   "metadata": {},
   "source": [
    "### Looks like there have been some collisions here as a result of duplicate hash function outputs\n",
    "\n",
    "### Common fixes include open and closed addressing - open addressing involves shifting the data to the next open space, closed addressing involves appending the data to a linked list in the original hashLocation"
   ]
  },
  {
   "cell_type": "code",
   "execution_count": null,
   "metadata": {},
   "outputs": [],
   "source": []
  }
 ],
 "metadata": {
  "kernelspec": {
   "display_name": "Python 3",
   "language": "python",
   "name": "python3"
  },
  "language_info": {
   "codemirror_mode": {
    "name": "ipython",
    "version": 3
   },
   "file_extension": ".py",
   "mimetype": "text/x-python",
   "name": "python",
   "nbconvert_exporter": "python",
   "pygments_lexer": "ipython3",
   "version": "3.7.3"
  }
 },
 "nbformat": 4,
 "nbformat_minor": 4
}
